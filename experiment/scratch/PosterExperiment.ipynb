{
 "cells": [
  {
   "cell_type": "code",
   "execution_count": 1,
   "metadata": {},
   "outputs": [
    {
     "name": "stderr",
     "output_type": "stream",
     "text": [
      "Using TensorFlow backend.\n"
     ]
    },
    {
     "name": "stdout",
     "output_type": "stream",
     "text": [
      "data shapes\n",
      "  x train: (60000, 28, 28)\n",
      "  x test: (10000, 28, 28)\n",
      "  y train: (60000,)\n",
      "  y test: (10000,)\n"
     ]
    }
   ],
   "source": [
    "from keras.datasets import mnist\n",
    "(x_train, y_train), (x_test, y_test) = mnist.load_data()\n",
    "print(\"data shapes\")\n",
    "print(\"  x train:\", x_train.shape)\n",
    "print(\"  x test:\", x_test.shape)\n",
    "print(\"  y train:\", y_train.shape)\n",
    "print(\"  y test:\", y_test.shape)"
   ]
  },
  {
   "cell_type": "code",
   "execution_count": 2,
   "metadata": {},
   "outputs": [],
   "source": [
    "from keras.utils import to_categorical\n",
    "x_max = x_train.max()\n",
    "x_min = x_train.min()\n",
    "num_categories = len(set(y_train))\n",
    "x_train_images = (x_train.reshape(60000, 28, 28, 1) - x_min) / float(x_max - x_min)\n",
    "x_test_images = (x_test.reshape(10000, 28, 28, 1) - x_min) / float(x_max - x_min)\n",
    "y_train_vectors = to_categorical(y_train, num_categories)\n",
    "y_test_vectors = to_categorical(y_test, num_categories)"
   ]
  },
  {
   "cell_type": "code",
   "execution_count": 22,
   "metadata": {},
   "outputs": [
    {
     "name": "stdout",
     "output_type": "stream",
     "text": [
      "_________________________________________________________________\n",
      "Layer (type)                 Output Shape              Param #   \n",
      "=================================================================\n",
      "conv2d_29 (Conv2D)           (None, 28, 28, 32)        320       \n",
      "_________________________________________________________________\n",
      "conv2d_30 (Conv2D)           (None, 28, 28, 64)        18496     \n",
      "_________________________________________________________________\n",
      "max_pooling2d_17 (MaxPooling (None, 14, 14, 64)        0         \n",
      "_________________________________________________________________\n",
      "conv2d_31 (Conv2D)           (None, 14, 14, 32)        18464     \n",
      "_________________________________________________________________\n",
      "max_pooling2d_18 (MaxPooling (None, 7, 7, 32)          0         \n",
      "_________________________________________________________________\n",
      "flatten_14 (Flatten)         (None, 1568)              0         \n",
      "_________________________________________________________________\n",
      "dense_19 (Dense)             (None, 128)               200832    \n",
      "_________________________________________________________________\n",
      "dense_20 (Dense)             (None, 10)                1290      \n",
      "=================================================================\n",
      "Total params: 239,402\n",
      "Trainable params: 239,402\n",
      "Non-trainable params: 0\n",
      "_________________________________________________________________\n"
     ]
    }
   ],
   "source": [
    "from keras.models import Sequential\n",
    "from keras.layers import Conv2D, Dense, MaxPool2D\n",
    "from keras.layers.core import Flatten\n",
    "neural_net = Sequential()\n",
    "rows, cols = x_train.shape[1:]\n",
    "neural_net.add(Conv2D(32, (3, 3), strides=(1,1), padding='same', activation='relu', input_shape=(rows, cols, 1)))\n",
    "neural_net.add(Conv2D(64, (3, 3), strides=(1,1), padding='same', activation='relu'))\n",
    "neural_net.add(MaxPool2D(pool_size = (2,2)))\n",
    "neural_net.add(Conv2D(32, (3, 3), strides=(1,1), padding='same', activation='relu'))\n",
    "neural_net.add(MaxPool2D(pool_size = (2,2)))\n",
    "neural_net.add(Flatten())\n",
    "neural_net.add(Dense(128, activation='sigmoid'))\n",
    "neural_net.add(Dense(10, activation='softmax'))\n",
    "neural_net.summary()"
   ]
  },
  {
   "cell_type": "code",
   "execution_count": 25,
   "metadata": {},
   "outputs": [
    {
     "name": "stdout",
     "output_type": "stream",
     "text": [
      "Train on 60000 samples, validate on 10000 samples\n",
      "Epoch 1/3\n",
      "60000/60000 [==============================] - 9s - loss: 0.0220 - acc: 0.9926 - val_loss: 0.0288 - val_acc: 0.9910\n",
      "Epoch 2/3\n",
      "60000/60000 [==============================] - 9s - loss: 0.0142 - acc: 0.9956 - val_loss: 0.0304 - val_acc: 0.9904\n",
      "Epoch 3/3\n",
      "60000/60000 [==============================] - 9s - loss: 0.0128 - acc: 0.9960 - val_loss: 0.0263 - val_acc: 0.9922\n"
     ]
    }
   ],
   "source": [
    "from keras import optimizers\n",
    "neural_net.compile(optimizer= \"adam\", loss=\"categorical_crossentropy\", metrics=['accuracy'])\n",
    "history = neural_net.fit(x_train_images, y_train_vectors, verbose=1, validation_data=(x_test_images, y_test_vectors), epochs=3)"
   ]
  },
  {
   "cell_type": "code",
   "execution_count": 26,
   "metadata": {},
   "outputs": [
    {
     "name": "stdout",
     "output_type": "stream",
     "text": [
      "accuracy: 99.22%\n"
     ]
    }
   ],
   "source": [
    "loss, accuracy = neural_net.evaluate(x_test_images, y_test_vectors, verbose=0)\n",
    "print(\"accuracy: {}%\".format(accuracy*100))"
   ]
  },
  {
   "cell_type": "code",
   "execution_count": null,
   "metadata": {},
   "outputs": [],
   "source": []
  }
 ],
 "metadata": {
  "kernelspec": {
   "display_name": "Python 3",
   "language": "python",
   "name": "python3"
  },
  "language_info": {
   "codemirror_mode": {
    "name": "ipython",
    "version": 3
   },
   "file_extension": ".py",
   "mimetype": "text/x-python",
   "name": "python",
   "nbconvert_exporter": "python",
   "pygments_lexer": "ipython3",
   "version": "3.5.2"
  }
 },
 "nbformat": 4,
 "nbformat_minor": 2
}
