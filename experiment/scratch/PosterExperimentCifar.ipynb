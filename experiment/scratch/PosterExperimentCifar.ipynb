{
 "cells": [
  {
   "cell_type": "code",
   "execution_count": 1,
   "metadata": {},
   "outputs": [
    {
     "name": "stderr",
     "output_type": "stream",
     "text": [
      "Using TensorFlow backend.\n"
     ]
    },
    {
     "name": "stdout",
     "output_type": "stream",
     "text": [
      "data shapes\n",
      "  x train: (50000, 32, 32, 3)\n",
      "  x test: (10000, 32, 32, 3)\n",
      "  y train: (50000,)\n",
      "  y test: (10000,)\n"
     ]
    }
   ],
   "source": [
    "from keras.datasets import cifar10\n",
    "(x_train, y_train), (x_test, y_test) = cifar10.load_data()\n",
    "y_train = y_train[:,0]\n",
    "y_test = y_test[:,0]\n",
    "print(\"data shapes\")\n",
    "print(\"  x train:\", x_train.shape)\n",
    "print(\"  x test:\", x_test.shape)\n",
    "print(\"  y train:\", y_train.shape)\n",
    "print(\"  y test:\", y_test.shape)"
   ]
  },
  {
   "cell_type": "code",
   "execution_count": 2,
   "metadata": {},
   "outputs": [],
   "source": [
    "from keras.utils import to_categorical\n",
    "x_max = x_train.max()\n",
    "x_min = x_train.min()\n",
    "num_categories = len(set(y_train))\n",
    "x_train_images = (x_train.reshape(50000, 32, 32, 3) - x_min) / float(x_max - x_min)\n",
    "x_test_images = (x_test.reshape(10000, 32, 32, 3) - x_min) / float(x_max - x_min)\n",
    "y_train_vectors = to_categorical(y_train, num_categories)\n",
    "y_test_vectors = to_categorical(y_test, num_categories)"
   ]
  },
  {
   "cell_type": "code",
   "execution_count": 3,
   "metadata": {},
   "outputs": [
    {
     "name": "stdout",
     "output_type": "stream",
     "text": [
      "_________________________________________________________________\n",
      "Layer (type)                 Output Shape              Param #   \n",
      "=================================================================\n",
      "conv2d_1 (Conv2D)            (None, 28, 28, 20)        1520      \n",
      "_________________________________________________________________\n",
      "max_pooling2d_1 (MaxPooling2 (None, 14, 14, 20)        0         \n",
      "_________________________________________________________________\n",
      "flatten_1 (Flatten)          (None, 3920)              0         \n",
      "_________________________________________________________________\n",
      "dense_1 (Dense)              (None, 100)               392100    \n",
      "_________________________________________________________________\n",
      "dense_2 (Dense)              (None, 10)                1010      \n",
      "=================================================================\n",
      "Total params: 394,630\n",
      "Trainable params: 394,630\n",
      "Non-trainable params: 0\n",
      "_________________________________________________________________\n"
     ]
    }
   ],
   "source": [
    "from keras.models import Sequential\n",
    "from keras.layers import Conv2D, Dense, MaxPool2D\n",
    "from keras.layers.core import Flatten\n",
    "neural_net = Sequential()\n",
    "rows, cols = x_train.shape[1:3]\n",
    "neural_net.add(Conv2D(20, (5, 5), strides=(1,1), activation='relu', input_shape=(rows, cols, 3)))\n",
    "neural_net.add(MaxPool2D(pool_size = (2,2)))\n",
    "neural_net.add(Flatten())\n",
    "neural_net.add(Dense(100, activation='sigmoid'))\n",
    "neural_net.add(Dense(10, activation='softmax'))\n",
    "neural_net.summary()"
   ]
  },
  {
   "cell_type": "code",
   "execution_count": 4,
   "metadata": {},
   "outputs": [
    {
     "name": "stdout",
     "output_type": "stream",
     "text": [
      "Train on 50000 samples, validate on 10000 samples\n",
      "Epoch 1/10\n",
      "50000/50000 [==============================] - 7s - loss: 1.6291 - acc: 0.4141 - val_loss: 1.3747 - val_acc: 0.5048\n",
      "Epoch 2/10\n",
      "50000/50000 [==============================] - 5s - loss: 1.2963 - acc: 0.5360 - val_loss: 1.2253 - val_acc: 0.5658\n",
      "Epoch 3/10\n",
      "50000/50000 [==============================] - 5s - loss: 1.1702 - acc: 0.5820 - val_loss: 1.1921 - val_acc: 0.5736\n",
      "Epoch 4/10\n",
      "50000/50000 [==============================] - 5s - loss: 1.0772 - acc: 0.6187 - val_loss: 1.1439 - val_acc: 0.5956\n",
      "Epoch 5/10\n",
      "50000/50000 [==============================] - 5s - loss: 0.9964 - acc: 0.6478 - val_loss: 1.1301 - val_acc: 0.5989\n",
      "Epoch 6/10\n",
      "50000/50000 [==============================] - 5s - loss: 0.9275 - acc: 0.6739 - val_loss: 1.1211 - val_acc: 0.6091\n",
      "Epoch 7/10\n",
      "50000/50000 [==============================] - 5s - loss: 0.8642 - acc: 0.6994 - val_loss: 1.0983 - val_acc: 0.6215\n",
      "Epoch 8/10\n",
      "50000/50000 [==============================] - 4s - loss: 0.8072 - acc: 0.7196 - val_loss: 1.1061 - val_acc: 0.6153\n",
      "Epoch 9/10\n",
      "50000/50000 [==============================] - 5s - loss: 0.7503 - acc: 0.7398 - val_loss: 1.1069 - val_acc: 0.6273\n",
      "Epoch 10/10\n",
      "50000/50000 [==============================] - 5s - loss: 0.6945 - acc: 0.7600 - val_loss: 1.1340 - val_acc: 0.6151\n"
     ]
    }
   ],
   "source": [
    "#this one is slow\n",
    "from keras import optimizers\n",
    "sgd = optimizers.SGD(lr=0.01, decay=1e-6, momentum=0.9, nesterov=True)\n",
    "neural_net.compile(optimizer= sgd, loss=\"categorical_crossentropy\", metrics=['accuracy'])\n",
    "history = neural_net.fit(x_train_images, y_train_vectors, batch_size=32, verbose=1, validation_data=(x_test_images, y_test_vectors), epochs=10)"
   ]
  },
  {
   "cell_type": "code",
   "execution_count": 7,
   "metadata": {},
   "outputs": [
    {
     "name": "stdout",
     "output_type": "stream",
     "text": [
      "accuracy: 98.83999999999999%\n"
     ]
    }
   ],
   "source": [
    "loss, accuracy = neural_net.evaluate(x_test_images, y_test_vectors, verbose=0)\n",
    "print(\"accuracy: {}%\".format(accuracy*100))"
   ]
  },
  {
   "cell_type": "code",
   "execution_count": null,
   "metadata": {},
   "outputs": [],
   "source": []
  }
 ],
 "metadata": {
  "kernelspec": {
   "display_name": "Python 3",
   "language": "python",
   "name": "python3"
  },
  "language_info": {
   "codemirror_mode": {
    "name": "ipython",
    "version": 3
   },
   "file_extension": ".py",
   "mimetype": "text/x-python",
   "name": "python",
   "nbconvert_exporter": "python",
   "pygments_lexer": "ipython3",
   "version": "3.5.2"
  }
 },
 "nbformat": 4,
 "nbformat_minor": 2
}
