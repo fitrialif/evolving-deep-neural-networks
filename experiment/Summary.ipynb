{
 "cells": [
  {
   "cell_type": "markdown",
   "metadata": {},
   "source": [
    "# CS81 Adaptive Robotics\n",
    "## Lab6: Summary of experiments\n",
    "---\n"
   ]
  },
  {
   "cell_type": "markdown",
   "metadata": {},
   "source": [
    "### Introduction"
   ]
  },
  {
   "cell_type": "markdown",
   "metadata": {
    "collapsed": true
   },
   "source": [
    "The purpose of our experiment was to investigate the integration of evolutionary algorithms into Convolutional Neural Network(CNN). The MNIST hand-written digit classification set was used to both train and then test the neural networks with.\n",
    "\n",
    "We found an opensource framework for evolve CNN in python called DEvol at https://github.com/joeddav/devol. We used the framework to develop our own experimental settings. We also adjusted the methods to meet our desired specifications.\n",
    "\n",
    "We evolved neural networks over 10 generations of 10 populations, and trained each network for three epochs and tested the validation accuracy and the loss. Between generations, the nature of the EvoCNN mandates that we crossover the best performing networks of last generation and potentially mutate the layers to evolve a new population.\n",
    "\n",
    "For all our experiments, we used a population size of 10 and evolved for 10 generations. For each network, we trained the networks for three epochs.\n",
    "\n"
   ]
  },
  {
   "cell_type": "markdown",
   "metadata": {},
   "source": [
    "### Experiments"
   ]
  },
  {
   "cell_type": "markdown",
   "metadata": {},
   "source": [
    "Below are the parameters of the network architecture we varied for the EvoCNN experiments:\n",
    "\n",
    "Experiment 1) EvoCNN with max 3 convolutional layers and 2 fully connected/dense layers, and batch normalization and dropout true, and activation functions ReLU and sigmoid.\n",
    "\n",
    "Experiment 2) EvoCNN with max 3 convolutional layers and 2 fully connected/dense layers, and batch normalization and dropout false, and activation functions ReLU and sigmoid.\n",
    "\n",
    "Experiment 3) EvoCNN with max 3 convolutional layers and 2 fully connected/dense layers, batch normalization and dropout false, and activation function sigmoid.\n",
    "\n",
    "Experiment 4) EvoCNN with max 3 convolutional layers and 2 fully connected/dense layers, batch normalization and dropout false, and activation function ReLU.\n",
    "\n",
    "All experiments were ran in the CS81 virtual environment on horseradish with a GTX1080 graphics card. The evolution time ranged from 60 to 100 minutes. Please follow the instruction in demo.ipynb for more information on the experiments. Analysis of the evolution result were also implemented in demo.ipynb."
   ]
  },
  {
   "cell_type": "markdown",
   "metadata": {},
   "source": [
    "### Discussion"
   ]
  },
  {
   "cell_type": "markdown",
   "metadata": {},
   "source": [
    "Over the course of all the EvoCNN expriments run, it was found that the average classification accuracy increased and the standard deviation decreased over the course of all the generations. Therefore, evolution was successful in its mission of evolving more robust networks over time with increased generations and epochs.\n",
    "\n",
    "The best result we found was 99.25% test accuracy with 3 convolutional layer and 2 dense layers and ReLU as the activation function.\n",
    "\n",
    "We varied the activation function to see how whether ReLU or sigmoid is more suited for the task of immage classificaton. We found that with ReLU, the accuracy was higher. In addition, we found that network structures with 3 convolutional layers and 2 dense layers performed best with ReLU over the generations consistently. \n",
    "\n",
    "We wanted to determine to what extent batch normalization and dropout affected the accuracy rate of the testing set. They don't have a significant effect, but we found that without these factors, the networks performed slightly better."
   ]
  }
 ],
 "metadata": {
  "kernelspec": {
   "display_name": "Python 3",
   "language": "python",
   "name": "python3"
  },
  "language_info": {
   "codemirror_mode": {
    "name": "ipython",
    "version": 3
   },
   "file_extension": ".py",
   "mimetype": "text/x-python",
   "name": "python",
   "nbconvert_exporter": "python",
   "pygments_lexer": "ipython3",
   "version": "3.5.2"
  }
 },
 "nbformat": 4,
 "nbformat_minor": 2
}
