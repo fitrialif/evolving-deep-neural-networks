{
 "cells": [
  {
   "cell_type": "markdown",
   "metadata": {},
   "source": [
    "# CoDeepNEAT demo\n",
    "## CS081 project checkpoint demo\n",
    "### Harsha Uppli, Alan Zhao, Gabriel Meyer-Lee\n",
    "\n",
    "The following notebook demonstrates using CoDeepNEAT to solve MNIST"
   ]
  },
  {
   "cell_type": "code",
   "execution_count": 1,
   "metadata": {},
   "outputs": [
    {
     "name": "stderr",
     "output_type": "stream",
     "text": [
      "Using TensorFlow backend.\n"
     ]
    },
    {
     "ename": "AttributeError",
     "evalue": "module 'codeepneat.genome' has no attribute 'ConnectionGene'",
     "output_type": "error",
     "traceback": [
      "\u001b[0;31m---------------------------------------------------------------------------\u001b[0m",
      "\u001b[0;31mAttributeError\u001b[0m                            Traceback (most recent call last)",
      "\u001b[0;32m<ipython-input-1-3f85a963aacb>\u001b[0m in \u001b[0;36m<module>\u001b[0;34m()\u001b[0m\n\u001b[1;32m      1\u001b[0m \u001b[0;32mfrom\u001b[0m \u001b[0mmath\u001b[0m \u001b[0;32mimport\u001b[0m \u001b[0mpi\u001b[0m\u001b[0;34m,\u001b[0m \u001b[0mfloor\u001b[0m\u001b[0;34m\u001b[0m\u001b[0m\n\u001b[1;32m      2\u001b[0m \u001b[0;32mfrom\u001b[0m \u001b[0mrandom\u001b[0m \u001b[0;32mimport\u001b[0m \u001b[0mrandom\u001b[0m\u001b[0;34m\u001b[0m\u001b[0m\n\u001b[0;32m----> 3\u001b[0;31m \u001b[0;32mfrom\u001b[0m \u001b[0mcodeepneat\u001b[0m \u001b[0;32mimport\u001b[0m \u001b[0mconfig\u001b[0m\u001b[0;34m,\u001b[0m \u001b[0mpopulation\u001b[0m\u001b[0;34m,\u001b[0m \u001b[0mchromosome\u001b[0m\u001b[0;34m,\u001b[0m \u001b[0mgenome\u001b[0m\u001b[0;34m,\u001b[0m \u001b[0mvisualize\u001b[0m\u001b[0;34m\u001b[0m\u001b[0m\n\u001b[0m\u001b[1;32m      4\u001b[0m \u001b[0;32mimport\u001b[0m \u001b[0mpickle\u001b[0m\u001b[0;34m\u001b[0m\u001b[0m\n\u001b[1;32m      5\u001b[0m \u001b[0;32mimport\u001b[0m \u001b[0mnumpy\u001b[0m \u001b[0;32mas\u001b[0m \u001b[0mnp\u001b[0m\u001b[0;34m\u001b[0m\u001b[0m\n",
      "\u001b[0;32m~/schoolproj/CS81proj/experiment/CDNEAT/codeepneat/population.py\u001b[0m in \u001b[0;36m<module>\u001b[0;34m()\u001b[0m\n\u001b[1;32m      2\u001b[0m \u001b[0;32mfrom\u001b[0m \u001b[0;34m.\u001b[0m\u001b[0mconfig\u001b[0m \u001b[0;32mimport\u001b[0m \u001b[0mConfig\u001b[0m\u001b[0;34m\u001b[0m\u001b[0m\n\u001b[1;32m      3\u001b[0m \u001b[0;32mfrom\u001b[0m \u001b[0;34m.\u001b[0m \u001b[0;32mimport\u001b[0m \u001b[0mspecies\u001b[0m\u001b[0;34m\u001b[0m\u001b[0m\n\u001b[0;32m----> 4\u001b[0;31m \u001b[0;32mfrom\u001b[0m \u001b[0;34m.\u001b[0m \u001b[0;32mimport\u001b[0m \u001b[0mchromosome\u001b[0m\u001b[0;34m\u001b[0m\u001b[0m\n\u001b[0m\u001b[1;32m      5\u001b[0m \u001b[0;32mimport\u001b[0m \u001b[0mpickle\u001b[0m \u001b[0;32mas\u001b[0m \u001b[0mpickle\u001b[0m\u001b[0;34m\u001b[0m\u001b[0m\n\u001b[1;32m      6\u001b[0m \u001b[0;32mfrom\u001b[0m \u001b[0;34m.\u001b[0m \u001b[0;32mimport\u001b[0m \u001b[0mvisualize\u001b[0m\u001b[0;34m\u001b[0m\u001b[0m\n",
      "\u001b[0;32m~/schoolproj/CS81proj/experiment/CDNEAT/codeepneat/chromosome.py\u001b[0m in \u001b[0;36m<module>\u001b[0;34m()\u001b[0m\n\u001b[1;32m     11\u001b[0m \u001b[0;31m# Temporary workaround - default settings\u001b[0m\u001b[0;34m\u001b[0m\u001b[0;34m\u001b[0m\u001b[0m\n\u001b[1;32m     12\u001b[0m \u001b[0;31m#node_gene_type = genome.NodeGene\u001b[0m\u001b[0;34m\u001b[0m\u001b[0;34m\u001b[0m\u001b[0m\n\u001b[0;32m---> 13\u001b[0;31m \u001b[0mconn_gene_type\u001b[0m \u001b[0;34m=\u001b[0m \u001b[0mgenome\u001b[0m\u001b[0;34m.\u001b[0m\u001b[0mConnectionGene\u001b[0m\u001b[0;34m\u001b[0m\u001b[0m\n\u001b[0m\u001b[1;32m     14\u001b[0m \u001b[0;34m\u001b[0m\u001b[0m\n\u001b[1;32m     15\u001b[0m \u001b[0;32mclass\u001b[0m \u001b[0mChromosome\u001b[0m\u001b[0;34m(\u001b[0m\u001b[0mobject\u001b[0m\u001b[0;34m)\u001b[0m\u001b[0;34m:\u001b[0m\u001b[0;34m\u001b[0m\u001b[0m\n",
      "\u001b[0;31mAttributeError\u001b[0m: module 'codeepneat.genome' has no attribute 'ConnectionGene'"
     ]
    }
   ],
   "source": [
    "from math import pi, floor\n",
    "from random import random\n",
    "from codeepneat import config, population, chromosome, genome, visualize\n",
    "import pickle\n",
    "import numpy as np\n",
    "import keras"
   ]
  },
  {
   "cell_type": "markdown",
   "metadata": {},
   "source": [
    "### Calculating Coverage\n",
    "\n",
    "The following **Grid** class is used to create a fitness function for calculating how well a robot's motion covers a given environment. To construct a grid, you must pass in the desired grid width and the environment's width.  Make sure you understand this class and its methods."
   ]
  },
  {
   "cell_type": "code",
   "execution_count": 2,
   "metadata": {},
   "outputs": [],
   "source": [
    "class Grid(object):\n",
    "    \"\"\"This class creates a grid of locations on top of a simulated world\n",
    "    to monitor how much of the world has been visited. Each grid location\n",
    "    is initally set to 0 to indicate that it is unvisited, and is updated\n",
    "    to 1, once it has been visited.\"\"\"\n",
    "    def __init__(self, grid_width, world_width):\n",
    "        self.grid_width = grid_width\n",
    "        self.world_width = world_width\n",
    "        self.grid = []\n",
    "        for i in range(self.grid_width):\n",
    "            self.grid.append([0] * self.grid_width)\n",
    "\n",
    "    def show(self):\n",
    "        \"\"\"Print a representation of the grid.\"\"\"\n",
    "        for i in range(self.grid_width):\n",
    "            for j in range(self.grid_width):\n",
    "                print(\"%2d\" % self.grid[i][j], end=\" \")\n",
    "            print()\n",
    "        print()\n",
    "        \n",
    "    def update(self, x, y):\n",
    "        \"\"\"In the simulator, the origin is at the bottom left corner.\n",
    "        Adjust the row to match this configuration. Set the appropriate\n",
    "        grid location to 1.\"\"\"\n",
    "        size = self.world_width/self.grid_width\n",
    "        col = floor(x/size)\n",
    "        # adjust the row so that it matches the simulator\n",
    "        row = self.grid_width - 1 - floor(y/size)\n",
    "        self.grid[row][col] = 1\n",
    "        \n",
    "    def analyze_visits(self):\n",
    "        \"\"\"Calculate the percentage of visited cells in the grid.\"\"\"\n",
    "        cells_visited = 0\n",
    "        for i in range(self.grid_width):\n",
    "            for j in range(self.grid_width):\n",
    "                if self.grid[i][j] > 0:\n",
    "                    cells_visited += 1\n",
    "        percent_visited = cells_visited/self.grid_width**2\n",
    "        return percent_visited\n"
   ]
  },
  {
   "cell_type": "markdown",
   "metadata": {},
   "source": [
    "### Testing Coverage\n",
    "\n",
    "Let's create a world and robot.  We'll allow the robot to move around randomly.  As it moves, we can record the (x, y) locations that it visits. Test the grid several times.  Try different grid sizes, such as 10 or 20."
   ]
  },
  {
   "cell_type": "code",
   "execution_count": 3,
   "metadata": {},
   "outputs": [],
   "source": [
    "def make_world(physics):\n",
    "    physics.addBox(0, 0, 4, 4, fill=\"white\", wallcolor=\"black\")"
   ]
  },
  {
   "cell_type": "code",
   "execution_count": 4,
   "metadata": {},
   "outputs": [],
   "source": [
    "def make_robot():\n",
    "    robot = Pioneer(\"Pioneer\", 2, 2, 0) #paremeters are x, y, heading (in radians)\n",
    "    robot.addDevice(Pioneer16Sonars())\n",
    "    return robot"
   ]
  },
  {
   "cell_type": "code",
   "execution_count": 5,
   "metadata": {},
   "outputs": [],
   "source": [
    "def random_act():\n",
    "    return random()*2-1, random()*2-1"
   ]
  },
  {
   "cell_type": "code",
   "execution_count": 6,
   "metadata": {},
   "outputs": [
    {
     "data": {
      "application/vnd.jupyter.widget-view+json": {
       "model_id": "4480e3ee27e345369f60a9740db04e1d",
       "version_major": 2,
       "version_minor": 0
      },
      "text/html": [
       "<p>Failed to display Jupyter Widget of type <code>VBox</code>.</p>\n",
       "<p>\n",
       "  If you're reading this message in Jupyter Notebook or JupyterLab, it may mean\n",
       "  that the widgets JavaScript is still loading. If this message persists, it\n",
       "  likely means that the widgets JavaScript library is either not installed or\n",
       "  not enabled. See the <a href=\"https://ipywidgets.readthedocs.io/en/stable/user_install.html\">Jupyter\n",
       "  Widgets Documentation</a> for setup instructions.\n",
       "</p>\n",
       "<p>\n",
       "  If you're reading this message in another notebook frontend (for example, a static\n",
       "  rendering on GitHub or <a href=\"https://nbviewer.jupyter.org/\">NBViewer</a>),\n",
       "  it may mean that your frontend doesn't currently support widgets.\n",
       "</p>\n"
      ],
      "text/plain": [
       "VBox(children=(VBox(children=(HBox(children=(Checkbox(value=True, description='Update GUI'), Checkbox(value=False, description='Trace Path'), Text(value='0.0 seconds', description='Time:'))), HBox(children=(VBox(children=(HBox(children=(FloatSlider(value=0.0, layout=Layout(height='248px', padding='0px 0px 0px 0px', width='10px'), orientation='vertical', readout=False), HTML(value='<svg baseProfile=\"full\" height=\"240\" version=\"1.1\" width=\"240\" xmlns=\"http://www.w3.org/2000/svg\" xmlns:ev=\"http://www.w3.org/2001/xml-events\" xmlns:xlink=\"http://www.w3.org/1999/xlink\"><defs /><rect fill=\"#ffffff\" height=\"240.0\" stroke=\"#000000\" stroke-width=\"1\" width=\"240.0\" x=\"0.0\" y=\"0.0\" /><line fill=\"#800080\" stroke=\"#add8e6\" stroke-width=\"1\" x1=\"109.5\" x2=\"0.0\" y1=\"114.0\" y2=\"114.0\" /><line fill=\"#800080\" stroke=\"#add8e6\" stroke-width=\"1\" x1=\"111.0\" x2=\"0.0\" y1=\"109.80000000000001\" y2=\"58.039848000000006\" /><line fill=\"#800080\" stroke=\"#add8e6\" stroke-width=\"1\" x1=\"113.4\" x2=\"22.777240194617416\" y1=\"107.99999999999999\" y2=\"0.0\" /><line fill=\"#800080\" stroke=\"#add8e6\" stroke-width=\"1\" x1=\"117.0\" x2=\"88.4634107462688\" y1=\"106.5\" y2=\"0.0\" /><line fill=\"#800080\" stroke=\"#add8e6\" stroke-width=\"1\" x1=\"122.99999999999999\" x2=\"151.53658925373122\" y1=\"106.5\" y2=\"0.0\" /><line fill=\"#800080\" stroke=\"#add8e6\" stroke-width=\"1\" x1=\"126.6\" x2=\"217.22275980538257\" y1=\"107.99999999999999\" y2=\"0.0\" /><line fill=\"#800080\" stroke=\"#add8e6\" stroke-width=\"1\" x1=\"129.0\" x2=\"240.0\" y1=\"109.80000000000001\" y2=\"58.039848000000006\" /><line fill=\"#800080\" stroke=\"#add8e6\" stroke-width=\"1\" x1=\"130.5\" x2=\"240.0\" y1=\"114.0\" y2=\"114.0\" /><line fill=\"#800080\" stroke=\"#add8e6\" stroke-width=\"1\" x1=\"130.5\" x2=\"240.0\" y1=\"126.0\" y2=\"126.0\" /><line fill=\"#800080\" stroke=\"#add8e6\" stroke-width=\"1\" x1=\"129.0\" x2=\"240.0\" y1=\"130.2\" y2=\"181.960152\" /><line fill=\"#800080\" stroke=\"#add8e6\" stroke-width=\"1\" x1=\"126.6\" x2=\"217.22275980538257\" y1=\"132.0\" y2=\"240.0\" /><line fill=\"#800080\" stroke=\"#add8e6\" stroke-width=\"1\" x1=\"122.99999999999999\" x2=\"151.53658925373122\" y1=\"133.5\" y2=\"240.0\" /><line fill=\"#800080\" stroke=\"#add8e6\" stroke-width=\"1\" x1=\"117.0\" x2=\"88.4634107462688\" y1=\"133.5\" y2=\"240.0\" /><line fill=\"#800080\" stroke=\"#add8e6\" stroke-width=\"1\" x1=\"113.39999999999999\" x2=\"22.777240194617413\" y1=\"132.0\" y2=\"240.0\" /><line fill=\"#800080\" stroke=\"#add8e6\" stroke-width=\"1\" x1=\"111.0\" x2=\"0.0\" y1=\"130.2\" y2=\"181.960152\" /><line fill=\"#800080\" stroke=\"#add8e6\" stroke-width=\"1\" x1=\"109.5\" x2=\"0.0\" y1=\"126.0\" y2=\"126.0\" /><polygon fill=\"red\" points=\"115.19999999999999,106.5 109.5,111.0 109.5,129.0 115.19999999999999,133.5 124.80000000000001,133.5 130.5,129.0 130.5,111.0 124.80000000000001,106.5\" stroke=\"red\" stroke-width=\"1\" /><polygon points=\"-3.0,-3.0 0,0 3.0,-3.0 0,3.0\" stroke=\"black\" stroke-width=\"1\" transform=\"translate(120.0,120.0) rotate(180.0)\" /></svg>'))), FloatSlider(value=0.0, layout=Layout(height='30px', padding='0px 0px 0px 10px', width='260px'), readout=False))), VBox(children=(Image(value=b'\\x89PNG\\r\\n\\x1a\\n\\x00\\x00\\x00\\rIHDR\\x00\\x00\\x00x\\x00\\x00\\x00<\\x08\\x02\\x00\\x00\\x00\"\\xcf\\xe9\\xff\\x00\\x00\\x00+IDATx\\x9c\\xed\\xc1\\x01\\x01\\x00\\x00\\x00\\x82 \\xff\\xafnH@\\x01\\x00\\x00\\x00\\x00\\x00\\x00\\x00\\x00\\x00\\x00\\x00\\x00\\x00\\x00\\x00\\x00\\x00\\x00\\x00\\x00\\x8f\\x06T\\x9c\\x00\\x01f.\\xa6\\x1d\\x00\\x00\\x00\\x00IEND\\xaeB`\\x82', width='240'), FloatSlider(value=0.0, layout=Layout(height='20px', padding='0px 0px 0px 0px', width='248px'), readout=False))))))), HBox(children=(Button(icon='step-forward', style=ButtonStyle()), Play(value=0, max=1000000), Button(description='Clear Output', style=ButtonStyle()))), Output()))"
      ]
     },
     "metadata": {},
     "output_type": "display_data"
    },
    {
     "name": "stdout",
     "output_type": "stream",
     "text": [
      " 0  0  0  0  0  0  0  0  0  0 \n",
      " 0  0  0  0  0  0  0  0  0  0 \n",
      " 0  0  0  0  0  0  0  0  0  0 \n",
      " 0  0  0  0  0  0  0  0  1  0 \n",
      " 0  0  0  0  0  1  0  0  1  0 \n",
      " 0  0  0  0  1  1  1  0  1  1 \n",
      " 0  0  0  0  0  0  1  1  0  1 \n",
      " 0  0  0  0  0  0  0  1  1  1 \n",
      " 0  0  0  0  0  0  0  1  1  0 \n",
      " 0  0  0  0  0  0  0  0  0  0 \n",
      "\n",
      "Percent visited 0.16\n"
     ]
    }
   ],
   "source": [
    "def test_grid():\n",
    "    robot = make_robot()\n",
    "    vsim = VSimulator(robot, make_world)\n",
    "    robot.useTrail = True\n",
    "    robot.display['trail'] = 1\n",
    "    grid = Grid(10, 4)\n",
    "    action = random_act()\n",
    "    for i in range(100):\n",
    "        vsim.step()\n",
    "        if i%20 == 0:\n",
    "            action = random_act()\n",
    "        robot.move(*action)\n",
    "        x, y, a = robot.getPose()\n",
    "        grid.update(x, y)\n",
    "    grid.show()\n",
    "    percent =  grid.analyze_visits()\n",
    "    print(\"Percent visited\", percent) \n",
    "\n",
    "test_grid()"
   ]
  },
  {
   "cell_type": "markdown",
   "metadata": {},
   "source": [
    "### Configuring NEAT\n",
    "\n",
    "Set key parameters of the NEAT experiments here.  "
   ]
  },
  {
   "cell_type": "code",
   "execution_count": 7,
   "metadata": {},
   "outputs": [
    {
     "name": "stdout",
     "output_type": "stream",
     "text": [
      "Overwriting configCoverage\n"
     ]
    }
   ],
   "source": [
    "%%file configMNIST\n",
    "#--- parameters for the robot experiment ---#\n",
    "[phenotype]\n",
    "input_nodes         = 4\n",
    "output_nodes        = 2\n",
    "max_weight          = 30\n",
    "min_weight          = -30\n",
    "feedforward         = 1\n",
    "nn_activation       = tanh\n",
    "hidden_nodes        = 0\n",
    "weight_stdev        = 0.9\n",
    "\n",
    "[genetic]\n",
    "pop_size              = 50\n",
    "max_fitness_threshold = 1\n",
    "\n",
    "# Human reasoning\n",
    "prob_addconn          = 0.1\n",
    "prob_addnode          = 0.05\n",
    "prob_mutatebias       = 0.2\n",
    "bias_mutation_power   = 0.5\n",
    "prob_mutate_weight    = 0.95\n",
    "weight_mutation_power = 1.5\n",
    "prob_togglelink       = 0.01\n",
    "elitism               = 1\n",
    "\n",
    "[genotype compatibility]\n",
    "compatibility_threshold = 3.0\n",
    "compatibility_change    = 0.0\n",
    "excess_coeficient       = 1.0\n",
    "disjoint_coeficient     = 1.0\n",
    "weight_coeficient       = 0.4\n",
    "\n",
    "[species]\n",
    "species_size        = 10\n",
    "survival_threshold  = 0.2\n",
    "old_threshold       = 30\n",
    "youth_threshold     = 10\n",
    "old_penalty         = 0.2\n",
    "youth_boost         = 1.2\n",
    "max_stagnation      = 15"
   ]
  },
  {
   "cell_type": "markdown",
   "metadata": {},
   "source": [
    "### Sensor inputs for achieving coverage\n",
    "\n",
    "What are the best sensors for allowing NEAT to find good coverage solutions? Here are some options to consider:\n",
    "\n",
    "1. all or some subset of the scaled sonars\n",
    "2. stall\n",
    "3. scaled timer (either counting up or counting down)\n",
    "4. bias (some constant value)\n",
    "5. current coverage\n",
    "\n",
    "For example, the following function uses just three sensors: the scaled minimum of the front sonar sensors, the stall sensor, and a count down timer.  The count down timer gives the robot a sense of how long a trial will last. A count down timer starts at 1.0 and decreases linearly to 0.0. A count up timer works in the reverse direction. It starts at 0.0 and increases linearly to 1.0. \n",
    "\n",
    "Remember that all inputs and targes to a neural network should be scaled to match the range of the activation function.  In our case, this will be **tanh** which has a range of **[-1,1]**."
   ]
  },
  {
   "cell_type": "code",
   "execution_count": 8,
   "metadata": {},
   "outputs": [],
   "source": [
    "def get_sensors(robot, steps, cover, i):\n",
    "    sonars = robot[\"sonar\"].getData()\n",
    "    scaled = [min(v/5.0, 1.0) for v in sonars]\n",
    "    timer_down = (steps-i)/steps\n",
    "    inputs = []\n",
    "    inputs.append(min(sonars[3:5]))\n",
    "    #inputs.append(min(sonars[7:9]))\n",
    "    #inputs.append(min(sonars[11:13]))\n",
    "    #inputs.append(min(sonars[15], sonars[0]))\n",
    "    inputs.append(robot.stall) \n",
    "    inputs.append(timer_down)\n",
    "    inputs.append(cover)\n",
    "    return inputs"
   ]
  },
  {
   "cell_type": "code",
   "execution_count": 9,
   "metadata": {},
   "outputs": [
    {
     "data": {
      "text/plain": [
       "[0, 0, 0.9, 0.5]"
      ]
     },
     "execution_count": 9,
     "metadata": {},
     "output_type": "execute_result"
    }
   ],
   "source": [
    "robot = make_robot()\n",
    "get_sensors(robot, 1000, .5, 100)"
   ]
  },
  {
   "cell_type": "markdown",
   "metadata": {},
   "source": [
    "### Fitness\n",
    "\n",
    "We will tie a network's fitness directly to the percent of grid locations a robot visits. Notice that on each time step, the **eval_individual** function is running a non-visual simulatator and uses the **get_sensors** function to determine the inputs to the networks."
   ]
  },
  {
   "cell_type": "code",
   "execution_count": 10,
   "metadata": {},
   "outputs": [],
   "source": [
    "def eval_individual(brain, robot, sim, show_trail=False, steps=1000):\n",
    "    robot.setPose(2, 2, 0)\n",
    "    if show_trail:\n",
    "        robot.useTrail = True\n",
    "        robot.trail = []   \n",
    "        robot.display['trail'] = 1\n",
    "    grid = Grid(15, 4) \n",
    "    for i in range(steps):\n",
    "        brain.flush()\n",
    "        cover = grid.analyze_visits()\n",
    "        inputs = get_sensors(robot, steps, cover, i)\n",
    "        output = brain.sactivate(inputs)\n",
    "        robot.move(*output)\n",
    "        x, y, a = robot.getPose()\n",
    "        grid.update(x, y)\n",
    "        sim.step()\n",
    "    return grid.analyze_visits()"
   ]
  },
  {
   "cell_type": "code",
   "execution_count": 11,
   "metadata": {},
   "outputs": [],
   "source": [
    "def eval_population(population):\n",
    "    print(\"Evaluating chromo\", end=\" \")\n",
    "    for i in range(len(population)):\n",
    "        print(i, end=\" \")\n",
    "        chromo = population[i]\n",
    "        brain = nn.create_ffphenotype(chromo)\n",
    "        chromo.fitness = eval_individual(brain, robot, sim)\n",
    "    print()"
   ]
  },
  {
   "cell_type": "markdown",
   "metadata": {},
   "source": [
    "### Evolution\n",
    "\n",
    "Note that evolving brains for robots will be a **much** slower process than evolving solutions to XOR.  Here we need to create the network and allow it to control the robot for an extended period of time in the simulator in order to determine it's fitness. In order for you to see quick results, I have initially set the number of generations to 5, however, you should increase this for your experiments. \n",
    "\n",
    "Remember to look at the files **avg_fitness.svg** and **speciation.svg** after evolution is complete. You'll need to use a linux command such as **eog** in a terminal window to view them."
   ]
  },
  {
   "cell_type": "code",
   "execution_count": 12,
   "metadata": {},
   "outputs": [],
   "source": [
    "def evolve(n):\n",
    "    config.load('configCoverage')\n",
    "    chromosome.node_gene_type = genome.NodeGene\n",
    "    # Tell NEAT that we want to use the above function to evaluate fitness\n",
    "    population.Population.evaluate = eval_population\n",
    "    # Create a population (the size is defined in the configuration file)\n",
    "    pop = population.Population()\n",
    "    # Run NEAT's genetic algorithm for at most 30 epochs\n",
    "    # It will stop if fitness surpasses the max_fitness_threshold in config file\n",
    "    pop.epoch(n, report=True, save_best=True, name=\"Coverage\")\n",
    "    # Plots the evolution of the best/average fitness\n",
    "    visualize.plot_stats(pop.stats, name=\"Coverage_\")\n",
    "    # Visualizes speciation\n",
    "    visualize.plot_species(pop.species_log, name=\"Coverage_\")"
   ]
  },
  {
   "cell_type": "code",
   "execution_count": 13,
   "metadata": {},
   "outputs": [
    {
     "name": "stdout",
     "output_type": "stream",
     "text": [
      "\n",
      " ****** Running generation 0 ****** \n",
      "\n",
      "Evaluating chromo 0 1 2 3 4 5 6 7 8 9 10 11 12 13 14 15 16 17 18 19 20 21 22 23 24 25 26 27 28 29 30 31 32 33 34 35 36 37 38 39 40 41 42 43 44 45 46 47 48 49 \n",
      "Population's average fitness: 0.10213 stdev: 0.07805\n",
      "Best fitness: 0.3155555555 - size: (0, 8) - species 1 - id 3\n",
      "Species length: 1 totalizing 50 individuals\n",
      "Species ID       : [1]\n",
      "Each species size: [50]\n",
      "Amount to spawn  : [50]\n",
      "Species age      : [0]\n",
      "Species no improv: [0]\n",
      "\n",
      " ****** Running generation 1 ****** \n",
      "\n",
      "Evaluating chromo 0 1 2 3 4 5 6 7 8 9 10 11 12 13 14 15 16 17 18 19 20 21 22 23 24 25 26 27 28 29 30 31 32 33 34 35 36 37 38 39 40 41 42 43 44 45 46 47 48 49 \n",
      "Population's average fitness: 0.18436 stdev: 0.13464\n",
      "Best fitness: 0.5866666666 - size: (0, 8) - species 1 - id 72\n",
      "Species length: 2 totalizing 50 individuals\n",
      "Species ID       : [1, 2]\n",
      "Each species size: [49, 1]\n",
      "Amount to spawn  : [15, 35]\n",
      "Species age      : [1, 0]\n",
      "Species no improv: [0, 0]\n",
      "\n",
      " ****** Running generation 2 ****** \n",
      "\n",
      "Evaluating chromo 0 1 2 3 4 5 6 7 8 9 10 11 12 13 14 15 16 17 18 19 20 21 22 23 24 25 26 27 28 29 30 31 32 33 34 35 36 37 38 39 40 41 42 43 44 45 46 47 48 49 \n",
      "Population's average fitness: 0.16462 stdev: 0.13577\n",
      "Best fitness: 0.5866666666 - size: (0, 8) - species 1 - id 72\n",
      "Species length: 2 totalizing 50 individuals\n",
      "Species ID       : [1, 2]\n",
      "Each species size: [49, 1]\n",
      "Amount to spawn  : [13, 37]\n",
      "Species age      : [2, 1]\n",
      "Species no improv: [1, 0]\n",
      "\n",
      " ****** Running generation 3 ****** \n",
      "\n",
      "Evaluating chromo 0 1 2 3 4 5 6 7 8 9 10 11 12 13 14 15 16 17 18 19 20 21 22 23 24 25 26 27 28 29 30 31 32 33 34 35 36 37 38 39 40 41 42 43 44 45 46 47 48 49 \n",
      "Population's average fitness: 0.16133 stdev: 0.14309\n",
      "Best fitness: 0.5955555555 - size: (0, 8) - species 1 - id 152\n",
      "Species length: 3 totalizing 50 individuals\n",
      "Species ID       : [1, 2, 3]\n",
      "Each species size: [13, 36, 1]\n",
      "Amount to spawn  : [31, 13, 5]\n",
      "Species age      : [3, 2, 0]\n",
      "Species no improv: [0, 1, 0]\n",
      "Selecting 1 more indiv(s) to fill up the new population\n",
      "\n",
      " ****** Running generation 4 ****** \n",
      "\n",
      "Evaluating chromo 0 1 2 3 4 5 6 7 8 9 10 11 12 13 14 15 16 17 18 19 20 21 22 23 24 25 26 27 28 29 30 31 32 33 34 35 36 37 38 39 40 41 42 43 44 45 46 47 48 49 \n",
      "Population's average fitness: 0.21093 stdev: 0.19374\n",
      "Best fitness: 0.6711111111 - size: (0, 8) - species 1 - id 212\n",
      "Species length: 2 totalizing 50 individuals\n",
      "Species ID       : [1, 2]\n",
      "Each species size: [36, 14]\n",
      "Amount to spawn  : [25, 25]\n",
      "Species age      : [4, 3]\n",
      "Species no improv: [1, 2]\n",
      "\n",
      " ****** Running generation 5 ****** \n",
      "\n",
      "Evaluating chromo 0 1 2 3 4 5 6 7 8 9 10 11 12 13 14 15 16 17 18 19 20 21 22 23 24 25 26 27 28 29 30 31 32 33 34 35 36 37 38 39 40 41 42 43 44 45 46 47 48 49 \n",
      "Population's average fitness: 0.22800 stdev: 0.19626\n",
      "Best fitness: 0.6711111111 - size: (0, 8) - species 1 - id 212\n",
      "Species length: 3 totalizing 50 individuals\n",
      "Species ID       : [1, 2, 4]\n",
      "Each species size: [25, 24, 1]\n",
      "Amount to spawn  : [13, 14, 23]\n",
      "Species age      : [5, 4, 0]\n",
      "Species no improv: [2, 3, 0]\n",
      "\n",
      " ****** Running generation 6 ****** \n",
      "\n",
      "Evaluating chromo 0 1 2 3 4 5 6 7 8 9 10 11 12 13 14 15 16 17 18 19 20 21 22 23 24 25 26 27 28 29 30 31 32 33 34 35 36 37 38 39 40 41 42 43 44 45 46 47 48 49 \n",
      "Population's average fitness: 0.26658 stdev: 0.20919\n",
      "Best fitness: 0.7955555555 - size: (0, 8) - species 1 - id 302\n",
      "Species length: 4 totalizing 50 individuals\n",
      "Species ID       : [1, 2, 4, 5]\n",
      "Each species size: [13, 20, 16, 1]\n",
      "Amount to spawn  : [12, 10, 9, 20]\n",
      "Species age      : [6, 5, 1, 0]\n",
      "Species no improv: [0, 4, 1, 0]\n",
      "Removing 1 excess indiv(s) from the new population\n",
      "\n",
      " ****** Running generation 7 ****** \n",
      "\n",
      "Evaluating chromo 0 1 2 3 4 5 6 7 8 9 10 11 12 13 14 15 16 17 18 19 20 21 22 23 24 25 26 27 28 29 30 31 32 33 34 35 36 37 38 39 40 41 42 43 44 45 46 47 48 49 \n",
      "Population's average fitness: 0.27893 stdev: 0.26072\n",
      "Best fitness: 0.84 - size: (0, 8) - species 1 - id 341\n",
      "Species length: 6 totalizing 50 individuals\n",
      "Species ID       : [1, 2, 4, 5, 6, 7]\n",
      "Each species size: [12, 17, 1, 18, 1, 1]\n",
      "Amount to spawn  : [18, 6, 10, 7, 7, 2]\n",
      "Species age      : [7, 6, 2, 1, 0, 0]\n",
      "Species no improv: [0, 5, 2, 1, 0, 0]\n",
      "\n",
      " ****** Running generation 8 ****** \n",
      "\n",
      "Evaluating chromo 0 1 2 3 4 5 6 7 8 9 10 11 12 13 14 15 16 17 18 19 20 21 22 23 24 25 26 27 28 29 30 31 32 33 34 35 36 37 38 39 40 41 42 43 44 45 46 47 48 49 \n",
      "Population's average fitness: 0.32498 stdev: 0.26752\n",
      "Best fitness: 0.84 - size: (0, 8) - species 1 - id 341\n",
      "Species length: 5 totalizing 50 individuals\n",
      "Species ID       : [1, 2, 4, 6, 7]\n",
      "Each species size: [18, 16, 10, 5, 1]\n",
      "Amount to spawn  : [15, 9, 7, 15, 5]\n",
      "Species age      : [8, 7, 3, 1, 1]\n",
      "Species no improv: [1, 6, 3, 0, 0]\n",
      "Removing 1 excess indiv(s) from the new population\n",
      "\n",
      " ****** Running generation 9 ****** \n",
      "\n",
      "Evaluating chromo 0 1 2 3 4 5 6 7 8 9 10 11 12 13 14 15 16 17 18 19 20 21 22 23 24 25 26 27 28 29 30 31 32 33 34 35 36 37 38 39 40 41 42 43 44 45 46 47 48 49 \n",
      "Population's average fitness: 0.33280 stdev: 0.26604\n",
      "Best fitness: 0.84 - size: (0, 8) - species 1 - id 400\n",
      "Species length: 6 totalizing 50 individuals\n",
      "Species ID       : [1, 2, 4, 6, 7, 8]\n",
      "Each species size: [15, 15, 7, 9, 3, 1]\n",
      "Amount to spawn  : [9, 11, 7, 10, 9, 4]\n",
      "Species age      : [9, 8, 4, 2, 2, 0]\n",
      "Species no improv: [2, 7, 4, 1, 0, 0]\n"
     ]
    }
   ],
   "source": [
    "robot = make_robot()\n",
    "sim = Simulator(robot, make_world)\n",
    "evolve(10)"
   ]
  },
  {
   "cell_type": "code",
   "execution_count": 14,
   "metadata": {},
   "outputs": [],
   "source": [
    "def eval_best(chromo_file):\n",
    "    config.load('configCoverage')\n",
    "    chromosome.node_gene_type = genome.NodeGene\n",
    "    fp = open(chromo_file, \"rb\")\n",
    "    chromo = pickle.load(fp)\n",
    "    print(chromo)\n",
    "    fp.close()\n",
    "    visualize.draw_net(chromo, \"_\" + chromo_file)    \n",
    "    brain = nn.create_ffphenotype(chromo)\n",
    "    fitness = eval_individual(brain, robot, sim, show_trail=True)\n",
    "    canvas = Canvas((400,400))\n",
    "    sim.physics.draw(canvas)\n",
    "    canvas.save(\"trail_\" + chromo_file + \".svg\")\n",
    "    print(\"fitness\", fitness)"
   ]
  },
  {
   "cell_type": "markdown",
   "metadata": {},
   "source": [
    "### Analysis\n",
    "\n",
    "Try evaluating the best chromosomes found at each generation of one of your evolutionary runs.  Describe how the behavior improved from one generation to the next.  Remember to look at the phenotype images that are also created when you evaluate the best chromosomes. These images show the topologies of the evolved networks. Describe whether the network topology changed from one generation to the next. \n",
    "\n",
    "### Answer\n",
    "\n",
    "Fitness generally increased over the generations. However, some generations had a decrease in fitness which then allowed subsequent generations to increase their fitness. Network topologies sometimes changed dramatically from one generation to the next, although later generations tended to have less dramatic changes in topology."
   ]
  },
  {
   "cell_type": "code",
   "execution_count": 15,
   "metadata": {},
   "outputs": [
    {
     "name": "stdout",
     "output_type": "stream",
     "text": [
      "Nodes:\n",
      "\tNode  1  INPUT, bias  0, response 4.924273\n",
      "\tNode  2  INPUT, bias  0, response 4.924273\n",
      "\tNode  3  INPUT, bias  0, response 4.924273\n",
      "\tNode  4  INPUT, bias  0, response 4.924273\n",
      "\tNode  5 OUTPUT, bias  0, response 4.924273\n",
      "\tNode  6 OUTPUT, bias  0, response 5.71823472\n",
      "Connections:\n",
      "\tIn  1, Out  5, Weight +1.17630, Enabled, Innov 1\n",
      "\tIn  2, Out  5, Weight -4.56807, Enabled, Innov 2\n",
      "\tIn  3, Out  5, Weight -2.84179, Enabled, Innov 3\n",
      "\tIn  4, Out  5, Weight +3.30274, Enabled, Innov 4\n",
      "\tIn  1, Out  6, Weight +2.70763, Enabled, Innov 5\n",
      "\tIn  2, Out  6, Weight +0.43135, Enabled, Innov 6\n",
      "\tIn  3, Out  6, Weight -7.90194, Enabled, Innov 7\n",
      "\tIn  4, Out  6, Weight -0.48354, Enabled, Innov 8\n",
      "Node order: []\n",
      "fitness 0.84\n"
     ]
    }
   ],
   "source": [
    "eval_best(\"Coverage_best_chromo_8\")"
   ]
  },
  {
   "cell_type": "markdown",
   "metadata": {
    "collapsed": true
   },
   "source": [
    "### Experiments\n",
    "\n",
    "When using NEAT, many parameter settings must be specified and it isn't always clear how best to make these choices.  Each of the choices made in the code above can affect the types of behavior that will be evolved.  Below are just some of the parameter settings that you could explore. \n",
    "\n",
    "1. What inputs should be provided? In the original code only three were given: the normalized minimum of front sonar sensors, the stall sensor, and a count down timer. Try other combinations of inputs.\n",
    "\n",
    "2. How should fitness be measured? In the original code we used a grid size of 15 and the percent visited as the fitness.  How would things change if we made the grid size bigger or smaller?  Is there a better method of evaluating coverage rather than percent visited?\n",
    "\n",
    "3. How should the NEAT parameters be set? Should the probability of adding nodes and connections be changed?  Should more or less speciation be encouraged?  Should we use bigger populations and run for more generations? \n",
    "\n",
    "Run a series of 10 experiments using the original set up that I provided.  Each evolution should be for at least 10 generations. Report on the best coverage achieved in each run, as well as the complexity of the best networks in terms of the number of nodes and connections in the network topology. Note that the evolution process is not guaranteed to always lead to ever increasing fitness levels.  Sometimes an earlier generation can find a higher performing solution than a later generation. \n",
    "\n",
    "Modify the parameters in one of the ways suggested above. Run a series of 10 more experiments. Compare these results to original results.  Try to find a set of parameters that outperforms the ones I provided. "
   ]
  },
  {
   "cell_type": "markdown",
   "metadata": {},
   "source": [
    "### Results\n",
    "\n",
    "#### Original Set Up\n",
    "\n",
    "Experiment | Best Coverage | Best Complexity\n",
    "--- | --- | ---\n",
    "1 | .809 | 5n + 6c\n",
    "2 | .840 | 5n + 6c\n",
    "3 | .867 | 5n + 6c\n",
    "4 | .898 | 5n + 6c\n",
    "5 | .871 | 5n + 6c\n",
    "6 | .796 | 7n + 10c\n",
    "7 | .853 | 6n + 8c\n",
    "8 | .862 | 5n + 6c\n",
    "9 | .853 | 6n + 8c\n",
    "10 | .836 | 5n + 6c\n",
    "\n",
    "![Performance of original network](trailog.svg)\n",
    "\n",
    "As shown above, this set up has a tendency to initially drive in circles gradually moving to the side to cover some of the center before doing laps around the parameter\n",
    "\n",
    "\n",
    "We decided to make two small modifications to the hyperparameters: we added the current coverage of the board to the robot's existing sensors and increased the population to 50.\n",
    "\n",
    "#### With Coverage sensor (and Population = 50)\n",
    "\n",
    "Experiment | Best Coverage | Best Complexity\n",
    "--- | --- | ---\n",
    "1 | .813 | 7n + 10c\n",
    "2 | .813 | 6n + 8c\n",
    "3 | .871 | 8n + 10c\n",
    "4 | .809 | 7n + 9c\n",
    "5 | .884| 6n + 8c\n",
    "6 | .840 | 6n + 8c\n",
    "7 | .876 | 6n + 8c\n",
    "8 | .782 | 6n + 8c\n",
    "9 | .813 | 6n + 8c\n",
    "10 | .800 | 8n + 11c\n",
    "11 | .840 | 6n + 8c \n",
    "\n",
    "This new set up produced some instances of the previous behavior, as shown below.\n",
    "![Performance of modified network](trailmod3.svg)\n",
    "\n",
    "However, the best performing network we trained, trial 5, produced some novel, sharp turning behavior leading to a greater, non overlapping coverage.\n",
    "![Performance of Trial 5 network](trailmod4.svg)\n",
    "\n",
    "This behavior was not unique to our best trial, and was also identified in some lower performing trials such as Trial 1 and Trial 9.\n",
    "![Performance of Trial 9 network](trailmod5.svg)\n",
    "We also ran a few trials with the coverage sensor but over 30 generations instead of 10. This did produce a network with no hidden nodes that had a fitness of .907 and a network with 5 hidden nodes and a fitness of .876, but the trails and ultimate fitness functions of these networks demonstrated that the substantially longer training period bought only an incremental increase, if any, in performance.\n"
   ]
  },
  {
   "cell_type": "markdown",
   "metadata": {},
   "source": [
    "### Use git to commit, add, and push\n",
    "\n",
    "Be sure to save this notebook to the repository."
   ]
  },
  {
   "cell_type": "code",
   "execution_count": null,
   "metadata": {},
   "outputs": [],
   "source": []
  }
 ],
 "metadata": {
  "kernelspec": {
   "display_name": "Python 3",
   "language": "python",
   "name": "python3"
  },
  "language_info": {
   "codemirror_mode": {
    "name": "ipython",
    "version": 3
   },
   "file_extension": ".py",
   "mimetype": "text/x-python",
   "name": "python",
   "nbconvert_exporter": "python",
   "pygments_lexer": "ipython3",
   "version": "3.5.2"
  }
 },
 "nbformat": 4,
 "nbformat_minor": 2
}
