{
 "cells": [
  {
   "cell_type": "markdown",
   "metadata": {},
   "source": [
    "# CoDeepNEAT demo\n",
    "## CS081 project checkpoint demo\n",
    "### Harsha Uppli, Alan Zhao, Gabriel Meyer-Lee\n",
    "\n",
    "The following notebook demonstrates using CoDeepNEAT to solve MNIST"
   ]
  },
  {
   "cell_type": "code",
   "execution_count": 15,
   "metadata": {},
   "outputs": [],
   "source": [
    "from math import pi, floor\n",
    "from random import random\n",
    "from codeepneat import codeepneat, config, population, chromosome, genome, visualize\n",
    "import pickle\n",
    "import numpy as np\n",
    "import keras"
   ]
  },
  {
   "cell_type": "markdown",
   "metadata": {},
   "source": [
    "### Sample problem: MNIST data set\n",
    "\n",
    "The MNIST data set of handwritten gray scale images of digits 0-9 is a classic computer vision data set and therefore makes for good testing. Conveniently, it's also built into Keras, which our CoDeepNEAT imiplementation is built off of."
   ]
  },
  {
   "cell_type": "code",
   "execution_count": 16,
   "metadata": {},
   "outputs": [],
   "source": [
    "(x_train, y_train), (x_test, y_test) = keras.datasets.mnist.load_data()\n",
    "data = [x_train, y_train, x_test, y_test]"
   ]
  },
  {
   "cell_type": "markdown",
   "metadata": {},
   "source": [
    "### Configuring NEAT\n",
    "\n",
    "Many of the options and inputs are still handled through the config file. The config file has been shortened considerably as many parameters have been eliminated, although many parameters have also been introduced which could be added."
   ]
  },
  {
   "cell_type": "code",
   "execution_count": 17,
   "metadata": {},
   "outputs": [
    {
     "name": "stdout",
     "output_type": "stream",
     "text": [
      "Overwriting configMNIST\n"
     ]
    }
   ],
   "source": [
    "%%file configMNIST\n",
    "#--- parameters for the robot experiment ---#\n",
    "[phenotype]\n",
    "input_nodes         = 28,28,1\n",
    "output_nodes        = 10\n",
    "conv                = True\n",
    "\n",
    "[genetic]\n",
    "max_fitness_threshold = 1\n",
    "\n",
    "# Human reasoning\n",
    "pop_size              = 10\n",
    "prob_addconv          = 0.9\n",
    "prob_addlayer         = 0.1\n",
    "prob_addmodule        = 0.05\n",
    "elitism               = 1\n",
    "\n",
    "[genotype compatibility]\n",
    "compatibility_threshold = 3.0\n",
    "compatibility_change    = 0.0\n",
    "excess_coeficient       = 1.0\n",
    "disjoint_coeficient     = 1.0\n",
    "connection_coeficient   = 0.4\n",
    "\n",
    "[species]\n",
    "species_size        = 10\n",
    "survival_threshold  = 0.2\n",
    "old_threshold       = 30\n",
    "youth_threshold     = 10\n",
    "old_penalty         = 0.2\n",
    "youth_boost         = 1.2\n",
    "max_stagnation      = 15"
   ]
  },
  {
   "cell_type": "markdown",
   "metadata": {},
   "source": [
    "### Fitness\n",
    "\n",
    "For this demonstration we'll be using supervised learning to train the networks produced by CoDeepNEAT on NMIST and then use their accuracy after 10 epochs as their fitness."
   ]
  },
  {
   "cell_type": "code",
   "execution_count": 23,
   "metadata": {},
   "outputs": [],
   "source": [
    "def fitness(network, data):\n",
    "    trainx = np.reshape(data[0],(60000,28,28,1))\n",
    "    testx = np.reshape(data[2], (10000,28,28,1))\n",
    "    trainy = keras.utils.np_utils.to_categorical(data[1], 10)\n",
    "    testy = keras.utils.np_utils.to_categorical(data[3], 10)\n",
    "    network.fit(trainx, trainy,  epochs=5)\n",
    "    loss, acc = network.evaluate(testx, testy)\n",
    "    return acc"
   ]
  },
  {
   "cell_type": "markdown",
   "metadata": {},
   "source": [
    "### Evolution\n",
    "\n",
    "Evolution with CoDeepNEAT is slightly different than evolution with NEAT. The main difference is coevolution, where we have two separate populations with a hierarchical relationship evolving together."
   ]
  },
  {
   "cell_type": "code",
   "execution_count": 24,
   "metadata": {},
   "outputs": [],
   "source": [
    "def evolve(n):\n",
    "    config.load('configMNIST')\n",
    "    # Create 2 separate populations (size is now defined explicitly, but config file can still be used)\n",
    "    module_pop = population.Population(40, chromosome.ModuleChromo)\n",
    "    # As the top hierarchical level, the blueprint population needs to be able to see the module population\n",
    "    blueprint_pop = population.Population(10, chromosome.BlueprintChromo, module_pop)\n",
    "    # Most of the actual evolving is now handled outside of the population, by CoDeepNEAT\n",
    "    # Instead of requiring the user to overwrite the evaluation function, CoDeepNEAT evaluates the populations itself,\n",
    "    # it simply requires a fitness function for the networks it creates passed in as an argument.\n",
    "    codeepneat.epoch(n, blueprint_pop, module_pop, 10, fitness, data, save_best=True, name='NMIST')\n",
    "    # It will still stop if fitness surpasses the max_fitness_threshold in config file\n",
    "    # Plots the evolution of the best/average fitness\n",
    "    visualize.plot_stats(module_pop.stats, name=\"NMISTmod_\")\n",
    "    visualize.plot_stats(blueprint_pop.stats, name=\"NMISTbp_\")\n",
    "    # Visualizes speciation\n",
    "    #visualize.plot_species(module_pop.species_log, name=\"NMISTmod_\")\n",
    "    #visualize.plot_species(blueprint_pop.species_log, name=\"NMISTbp_\")"
   ]
  },
  {
   "cell_type": "code",
   "execution_count": 25,
   "metadata": {
    "scrolled": false
   },
   "outputs": [
    {
     "name": "stdout",
     "output_type": "stream",
     "text": [
      "Epoch 1/5\n",
      "60000/60000 [==============================] - 15s - loss: 12.2274 - acc: 0.2404    \n",
      "Epoch 2/5\n",
      "60000/60000 [==============================] - 15s - loss: 7.1043 - acc: 0.5199    \n",
      "Epoch 3/5\n",
      "60000/60000 [==============================] - 15s - loss: 0.3219 - acc: 0.9122    \n",
      "Epoch 4/5\n",
      "60000/60000 [==============================] - 15s - loss: 0.3303 - acc: 0.9083    \n",
      "Epoch 5/5\n",
      "60000/60000 [==============================] - 15s - loss: 0.3136 - acc: 0.9128    \n",
      "10000/10000 [==============================] - 1s     \n",
      "Epoch 1/5\n",
      "60000/60000 [==============================] - 6s - loss: 9.4790 - acc: 0.4086     \n",
      "Epoch 2/5\n",
      "60000/60000 [==============================] - 5s - loss: 8.2563 - acc: 0.4854     \n",
      "Epoch 3/5\n",
      "60000/60000 [==============================] - 6s - loss: 7.2246 - acc: 0.5485     \n",
      "Epoch 4/5\n",
      "60000/60000 [==============================] - 5s - loss: 3.6987 - acc: 0.7457     \n",
      "Epoch 5/5\n",
      "60000/60000 [==============================] - 5s - loss: 0.1154 - acc: 0.9666     \n",
      " 9696/10000 [============================>.] - ETA: 0sEpoch 1/5\n",
      "60000/60000 [==============================] - 6s - loss: 9.9177 - acc: 0.3824     \n",
      "Epoch 2/5\n",
      "60000/60000 [==============================] - 6s - loss: 9.2940 - acc: 0.4215     \n",
      "Epoch 3/5\n",
      "60000/60000 [==============================] - 5s - loss: 8.3467 - acc: 0.4803     \n",
      "Epoch 4/5\n",
      "60000/60000 [==============================] - 6s - loss: 6.8277 - acc: 0.5707     \n",
      "Epoch 5/5\n",
      "60000/60000 [==============================] - 6s - loss: 0.3232 - acc: 0.9415     \n",
      " 9504/10000 [===========================>..] - ETA: 0sEpoch 1/5\n",
      "60000/60000 [==============================] - 14s - loss: 13.3344 - acc: 0.1724    \n",
      "Epoch 2/5\n",
      "60000/60000 [==============================] - 13s - loss: 12.2378 - acc: 0.2404    \n",
      "Epoch 3/5\n",
      "60000/60000 [==============================] - 13s - loss: 11.3563 - acc: 0.2952    \n",
      "Epoch 4/5\n",
      "60000/60000 [==============================] - 13s - loss: 11.3439 - acc: 0.2959    \n",
      "Epoch 5/5\n",
      "60000/60000 [==============================] - 13s - loss: 11.3074 - acc: 0.2983    \n",
      " 9984/10000 [============================>.] - ETA: 0sEpoch 1/5\n",
      "60000/60000 [==============================] - 6s - loss: 9.9958 - acc: 0.3776     \n",
      "Epoch 2/5\n",
      "60000/60000 [==============================] - 6s - loss: 9.0504 - acc: 0.4362     \n",
      "Epoch 3/5\n",
      "60000/60000 [==============================] - 6s - loss: 8.3582 - acc: 0.4795     \n",
      "Epoch 4/5\n",
      "60000/60000 [==============================] - 5s - loss: 4.4031 - acc: 0.7038     \n",
      "Epoch 5/5\n",
      "60000/60000 [==============================] - 5s - loss: 0.1310 - acc: 0.9639     \n",
      " 9216/10000 [==========================>...] - ETA: 0sEpoch 1/5\n",
      "60000/60000 [==============================] - 15s - loss: 1.6427 - acc: 0.8240    \n",
      "Epoch 2/5\n",
      "60000/60000 [==============================] - 14s - loss: 0.3447 - acc: 0.9089    \n",
      "Epoch 3/5\n",
      "60000/60000 [==============================] - 15s - loss: 0.3453 - acc: 0.9118    \n",
      "Epoch 4/5\n",
      "60000/60000 [==============================] - 14s - loss: 0.3456 - acc: 0.9153    \n",
      "Epoch 5/5\n",
      "60000/60000 [==============================] - 15s - loss: 0.3631 - acc: 0.9102    \n",
      " 9728/10000 [============================>.] - ETA: 0sEpoch 1/5\n",
      "60000/60000 [==============================] - 5s - loss: 14.6621 - acc: 0.0903     \n",
      "Epoch 2/5\n",
      "60000/60000 [==============================] - 5s - loss: 14.6618 - acc: 0.0903     \n",
      "Epoch 3/5\n",
      "60000/60000 [==============================] - 4s - loss: 14.6618 - acc: 0.0903     \n",
      "Epoch 4/5\n",
      "60000/60000 [==============================] - 4s - loss: 14.6618 - acc: 0.0903     \n",
      "Epoch 5/5\n",
      "60000/60000 [==============================] - 5s - loss: 14.6618 - acc: 0.0903     \n",
      " 9792/10000 [============================>.] - ETA: 0sEpoch 1/5\n",
      "60000/60000 [==============================] - 6s - loss: 0.7749 - acc: 0.9018     \n",
      "Epoch 2/5\n",
      "60000/60000 [==============================] - 6s - loss: 0.1087 - acc: 0.9707     \n",
      "Epoch 3/5\n",
      "60000/60000 [==============================] - 5s - loss: 0.0864 - acc: 0.9768     \n",
      "Epoch 4/5\n",
      "60000/60000 [==============================] - 6s - loss: 0.0741 - acc: 0.9813     \n",
      "Epoch 5/5\n",
      "60000/60000 [==============================] - 6s - loss: 0.0625 - acc: 0.9837     \n",
      " 9536/10000 [===========================>..] - ETA: 0sEpoch 1/5\n",
      "60000/60000 [==============================] - 15s - loss: 2.0794 - acc: 0.8045    \n",
      "Epoch 2/5\n",
      "60000/60000 [==============================] - 15s - loss: 0.3207 - acc: 0.9150    \n",
      "Epoch 3/5\n",
      "60000/60000 [==============================] - 14s - loss: 0.3346 - acc: 0.9084    \n",
      "Epoch 4/5\n",
      "60000/60000 [==============================] - 15s - loss: 0.3862 - acc: 0.8886    \n",
      "Epoch 5/5\n",
      "60000/60000 [==============================] - 15s - loss: 0.3946 - acc: 0.8887    \n",
      " 9984/10000 [============================>.] - ETA: 0sEpoch 1/5\n",
      "60000/60000 [==============================] - 15s - loss: 2.9705 - acc: 0.7580    \n",
      "Epoch 2/5\n",
      "60000/60000 [==============================] - 15s - loss: 0.3114 - acc: 0.9162    \n",
      "Epoch 3/5\n",
      "60000/60000 [==============================] - 15s - loss: 0.2989 - acc: 0.9205    \n",
      "Epoch 4/5\n",
      "60000/60000 [==============================] - 14s - loss: 0.3156 - acc: 0.9135    \n",
      "Epoch 5/5\n",
      "60000/60000 [==============================] - 14s - loss: 0.2943 - acc: 0.9171    \n",
      " 9888/10000 [============================>.] - ETA: 0s\n",
      " ****** Running generation 0 ****** \n",
      "\n",
      "Population's average fitness: 0.79479 stdev: 0.81055\n",
      "Best fitness: 2.9084 - size: 2 - species 1 - id 80\n",
      "Species length: 1 totalizing 20 individuals\n",
      "Species ID       : [1]\n",
      "Each species size: [20]\n",
      "Amount to spawn  : [10]\n",
      "Species age      : [0]\n",
      "Species no improv: [0]\n",
      "\n",
      "Best individual found in epoch 0 - complexity: 2\n",
      "\n",
      " ****** Running generation 0 ****** \n",
      "\n",
      "Population's average fitness: 0.19870 stdev: 1.24087\n",
      "Best fitness: 7.9479 - size: 1 - species 1 - id 313\n",
      "Species length: 2 totalizing 80 individuals\n",
      "Species ID       : [1, 2]\n",
      "Each species size: [14, 66]\n",
      "Amount to spawn  : [40, 0]\n",
      "Species age      : [0, 0]\n",
      "Species no improv: [0, 1]\n",
      "\n",
      "Best individual found in epoch 0 - complexity: 1\n"
     ]
    },
    {
     "ename": "IndexError",
     "evalue": "list index out of range",
     "output_type": "error",
     "traceback": [
      "\u001b[0;31m-------------------------------------------------------------------\u001b[0m",
      "\u001b[0;31mIndexError\u001b[0m                        Traceback (most recent call last)",
      "\u001b[0;32m<ipython-input-25-c3b6faae429d>\u001b[0m in \u001b[0;36m<module>\u001b[0;34m()\u001b[0m\n\u001b[0;32m----> 1\u001b[0;31m \u001b[0mevolve\u001b[0m\u001b[0;34m(\u001b[0m\u001b[0;36m5\u001b[0m\u001b[0;34m)\u001b[0m\u001b[0;34m\u001b[0m\u001b[0m\n\u001b[0m",
      "\u001b[0;32m<ipython-input-24-9efb1c56ba36>\u001b[0m in \u001b[0;36mevolve\u001b[0;34m(n)\u001b[0m\n\u001b[1;32m     14\u001b[0m     \u001b[0mvisualize\u001b[0m\u001b[0;34m.\u001b[0m\u001b[0mplot_stats\u001b[0m\u001b[0;34m(\u001b[0m\u001b[0mblueprint_pop\u001b[0m\u001b[0;34m.\u001b[0m\u001b[0mstats\u001b[0m\u001b[0;34m,\u001b[0m \u001b[0mname\u001b[0m\u001b[0;34m=\u001b[0m\u001b[0;34m\"NMISTbp_\"\u001b[0m\u001b[0;34m)\u001b[0m\u001b[0;34m\u001b[0m\u001b[0m\n\u001b[1;32m     15\u001b[0m     \u001b[0;31m# Visualizes speciation\u001b[0m\u001b[0;34m\u001b[0m\u001b[0;34m\u001b[0m\u001b[0m\n\u001b[0;32m---> 16\u001b[0;31m     \u001b[0mvisualize\u001b[0m\u001b[0;34m.\u001b[0m\u001b[0mplot_species\u001b[0m\u001b[0;34m(\u001b[0m\u001b[0mmodule_pop\u001b[0m\u001b[0;34m.\u001b[0m\u001b[0mspecies_log\u001b[0m\u001b[0;34m,\u001b[0m \u001b[0mname\u001b[0m\u001b[0;34m=\u001b[0m\u001b[0;34m\"NMISTmod_\"\u001b[0m\u001b[0;34m)\u001b[0m\u001b[0;34m\u001b[0m\u001b[0m\n\u001b[0m\u001b[1;32m     17\u001b[0m     \u001b[0mvisualize\u001b[0m\u001b[0;34m.\u001b[0m\u001b[0mplot_species\u001b[0m\u001b[0;34m(\u001b[0m\u001b[0mblueprint_pop\u001b[0m\u001b[0;34m.\u001b[0m\u001b[0mspecies_log\u001b[0m\u001b[0;34m,\u001b[0m \u001b[0mname\u001b[0m\u001b[0;34m=\u001b[0m\u001b[0;34m\"NMISTbp_\"\u001b[0m\u001b[0;34m)\u001b[0m\u001b[0;34m\u001b[0m\u001b[0m\n",
      "\u001b[0;32m~/cs81/project-huppili1-zzhao1/experiment/CDNEAT/codeepneat/visualize.py\u001b[0m in \u001b[0;36mplot_species\u001b[0;34m(species_log, name)\u001b[0m\n\u001b[1;32m     69\u001b[0m         \u001b[0mspecies\u001b[0m \u001b[0;34m=\u001b[0m \u001b[0;34m[\u001b[0m\u001b[0;34m]\u001b[0m\u001b[0;34m\u001b[0m\u001b[0m\n\u001b[1;32m     70\u001b[0m \u001b[0;34m\u001b[0m\u001b[0m\n\u001b[0;32m---> 71\u001b[0;31m     \u001b[0ms1\u001b[0m \u001b[0;34m=\u001b[0m \u001b[0mbiggles\u001b[0m\u001b[0;34m.\u001b[0m\u001b[0mCurve\u001b[0m\u001b[0;34m(\u001b[0m\u001b[0mgeneration\u001b[0m\u001b[0;34m,\u001b[0m \u001b[0mcurves\u001b[0m\u001b[0;34m[\u001b[0m\u001b[0;36m0\u001b[0m\u001b[0;34m]\u001b[0m\u001b[0;34m)\u001b[0m\u001b[0;34m\u001b[0m\u001b[0m\n\u001b[0m\u001b[1;32m     72\u001b[0m \u001b[0;34m\u001b[0m\u001b[0m\n\u001b[1;32m     73\u001b[0m     \u001b[0mplot\u001b[0m\u001b[0;34m.\u001b[0m\u001b[0madd\u001b[0m\u001b[0;34m(\u001b[0m\u001b[0ms1\u001b[0m\u001b[0;34m)\u001b[0m\u001b[0;34m\u001b[0m\u001b[0m\n",
      "\u001b[0;31mIndexError\u001b[0m: list index out of range"
     ]
    }
   ],
   "source": [
    "evolve(5)"
   ]
  },
  {
   "cell_type": "code",
   "execution_count": 29,
   "metadata": {},
   "outputs": [],
   "source": [
    "def eval_best(chromo_file):\n",
    "    config.load('configMNIST')\n",
    "    fp = open(chromo_file, \"rb\")\n",
    "    chromo = pickle.load(fp)\n",
    "    print(chromo)\n",
    "    fp.close()\n",
    "    visualize.draw_net(chromo, \"_\" + chromo_file)    \n",
    "    network = codeepneat.produce_net(chromo)\n",
    "    network.fit(x_train, y_train, epochs=50)\n",
    "    fitness = network.evaluate(x_test, y_test)\n",
    "    print(\"fitness\", fitness)"
   ]
  },
  {
   "cell_type": "code",
   "execution_count": 32,
   "metadata": {},
   "outputs": [
    {
     "ename": "FileNotFoundError",
     "evalue": "[Errno 2] No such file or directory: 'NMISTbp_best_chromo_0'",
     "output_type": "error",
     "traceback": [
      "\u001b[0;31m-------------------------------------------------------------------\u001b[0m",
      "\u001b[0;31mFileNotFoundError\u001b[0m                 Traceback (most recent call last)",
      "\u001b[0;32m<ipython-input-32-1acc5c224e30>\u001b[0m in \u001b[0;36m<module>\u001b[0;34m()\u001b[0m\n\u001b[0;32m----> 1\u001b[0;31m \u001b[0meval_best\u001b[0m\u001b[0;34m(\u001b[0m\u001b[0;34m\"NMISTbp_best_chromo_0\"\u001b[0m\u001b[0;34m)\u001b[0m\u001b[0;34m\u001b[0m\u001b[0m\n\u001b[0m",
      "\u001b[0;32m<ipython-input-29-95a707793894>\u001b[0m in \u001b[0;36meval_best\u001b[0;34m(chromo_file)\u001b[0m\n\u001b[1;32m      1\u001b[0m \u001b[0;32mdef\u001b[0m \u001b[0meval_best\u001b[0m\u001b[0;34m(\u001b[0m\u001b[0mchromo_file\u001b[0m\u001b[0;34m)\u001b[0m\u001b[0;34m:\u001b[0m\u001b[0;34m\u001b[0m\u001b[0m\n\u001b[1;32m      2\u001b[0m     \u001b[0mconfig\u001b[0m\u001b[0;34m.\u001b[0m\u001b[0mload\u001b[0m\u001b[0;34m(\u001b[0m\u001b[0;34m'configMNIST'\u001b[0m\u001b[0;34m)\u001b[0m\u001b[0;34m\u001b[0m\u001b[0m\n\u001b[0;32m----> 3\u001b[0;31m     \u001b[0mfp\u001b[0m \u001b[0;34m=\u001b[0m \u001b[0mopen\u001b[0m\u001b[0;34m(\u001b[0m\u001b[0mchromo_file\u001b[0m\u001b[0;34m,\u001b[0m \u001b[0;34m\"rb\"\u001b[0m\u001b[0;34m)\u001b[0m\u001b[0;34m\u001b[0m\u001b[0m\n\u001b[0m\u001b[1;32m      4\u001b[0m     \u001b[0mchromo\u001b[0m \u001b[0;34m=\u001b[0m \u001b[0mpickle\u001b[0m\u001b[0;34m.\u001b[0m\u001b[0mload\u001b[0m\u001b[0;34m(\u001b[0m\u001b[0mfp\u001b[0m\u001b[0;34m)\u001b[0m\u001b[0;34m\u001b[0m\u001b[0m\n\u001b[1;32m      5\u001b[0m     \u001b[0mprint\u001b[0m\u001b[0;34m(\u001b[0m\u001b[0mchromo\u001b[0m\u001b[0;34m)\u001b[0m\u001b[0;34m\u001b[0m\u001b[0m\n",
      "\u001b[0;31mFileNotFoundError\u001b[0m: [Errno 2] No such file or directory: 'NMISTbp_best_chromo_0'"
     ]
    }
   ],
   "source": [
    "eval_best(\"NMISTbp_best_chromo_0\")"
   ]
  },
  {
   "cell_type": "code",
   "execution_count": null,
   "metadata": {},
   "outputs": [],
   "source": []
  }
 ],
 "metadata": {
  "kernelspec": {
   "display_name": "Python 3",
   "language": "python",
   "name": "python3"
  },
  "language_info": {
   "codemirror_mode": {
    "name": "ipython",
    "version": 3
   },
   "file_extension": ".py",
   "mimetype": "text/x-python",
   "name": "python",
   "nbconvert_exporter": "python",
   "pygments_lexer": "ipython3",
   "version": "3.5.2"
  }
 },
 "nbformat": 4,
 "nbformat_minor": 2
}
