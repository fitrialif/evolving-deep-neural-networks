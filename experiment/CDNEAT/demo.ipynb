{
 "cells": [
  {
   "cell_type": "markdown",
   "metadata": {},
   "source": [
    "# CoDeepNEAT demo\n",
    "## CS081 project checkpoint demo\n",
    "### Harsha Uppli, Alan Zhao, Gabriel Meyer-Lee\n",
    "\n",
    "The following notebook demonstrates using CoDeepNEAT to solve MNIST"
   ]
  },
  {
   "cell_type": "code",
   "execution_count": 1,
   "metadata": {},
   "outputs": [
    {
     "name": "stderr",
     "output_type": "stream",
     "text": [
      "Using TensorFlow backend.\n"
     ]
    }
   ],
   "source": [
    "from math import pi, floor\n",
    "from random import random\n",
    "from codeepneat import codeepneat, config, population, chromosome, genome, visualize\n",
    "import pickle\n",
    "import numpy as np\n",
    "import keras"
   ]
  },
  {
   "cell_type": "markdown",
   "metadata": {},
   "source": [
    "### Sample problem: MNIST data set\n",
    "\n",
    "The MNIST data set of handwritten gray scale images of digits 0-9 is a classic computer vision data set and therefore makes for good testing. Conveniently, it's also built into Keras, which our CoDeepNEAT imiplementation is built off of."
   ]
  },
  {
   "cell_type": "code",
   "execution_count": 2,
   "metadata": {},
   "outputs": [],
   "source": [
    "(x_train, y_train), (x_test, y_test) = keras.datasets.mnist.load_data()\n",
    "trainx = np.reshape(x_train,(60000,28,28,1))\n",
    "testx = np.reshape(x_test, (10000,28,28,1))\n",
    "trainy = keras.utils.np_utils.to_categorical(y_train, 10)\n",
    "testy = keras.utils.np_utils.to_categorical(y_test, 10)\n",
    "data = [trainx, trainy, testx, testy]"
   ]
  },
  {
   "cell_type": "markdown",
   "metadata": {},
   "source": [
    "### Configuring NEAT\n",
    "\n",
    "Many of the options and inputs are still handled through the config file. The config file has been shortened considerably as many parameters have been eliminated, although many parameters have also been introduced which could be added."
   ]
  },
  {
   "cell_type": "code",
   "execution_count": 3,
   "metadata": {},
   "outputs": [
    {
     "name": "stdout",
     "output_type": "stream",
     "text": [
      "Overwriting configMNIST\n"
     ]
    }
   ],
   "source": [
    "%%file configMNIST\n",
    "#--- parameters for the robot experiment ---#\n",
    "[phenotype]\n",
    "input_nodes         = 28,28,1\n",
    "output_nodes        = 10\n",
    "conv                = True\n",
    "\n",
    "[genetic]\n",
    "max_fitness_threshold = 1\n",
    "\n",
    "# Human reasoning\n",
    "pop_size              = 10\n",
    "prob_addconv          = 0.9\n",
    "prob_addlayer         = 0.1\n",
    "prob_addmodule        = 0.05\n",
    "elitism               = 1\n",
    "\n",
    "[genotype compatibility]\n",
    "compatibility_threshold = 3.0\n",
    "compatibility_change    = 0.0\n",
    "excess_coeficient       = 1.0\n",
    "disjoint_coeficient     = 1.0\n",
    "connection_coeficient   = 0.4\n",
    "\n",
    "[species]\n",
    "species_size        = 5\n",
    "survival_threshold  = 0.2\n",
    "old_threshold       = 30\n",
    "youth_threshold     = 10\n",
    "old_penalty         = 0.2\n",
    "youth_boost         = 1.2\n",
    "max_stagnation      = 15"
   ]
  },
  {
   "cell_type": "markdown",
   "metadata": {},
   "source": [
    "### Fitness\n",
    "\n",
    "For this demonstration we'll be using supervised learning to train the networks produced by CoDeepNEAT on NMIST and then use their accuracy after 10 epochs as their fitness."
   ]
  },
  {
   "cell_type": "code",
   "execution_count": 4,
   "metadata": {},
   "outputs": [],
   "source": [
    "def fitness(network, data):\n",
    "    network.fit(data[0], data[1],  epochs=5)\n",
    "    loss, acc = network.evaluate(data[2], data[3])\n",
    "    return acc"
   ]
  },
  {
   "cell_type": "markdown",
   "metadata": {},
   "source": [
    "### Evolution\n",
    "\n",
    "Evolution with CoDeepNEAT is slightly different than evolution with NEAT. The main difference is coevolution, where we have two separate populations with a hierarchical relationship evolving together."
   ]
  },
  {
   "cell_type": "code",
   "execution_count": 5,
   "metadata": {},
   "outputs": [],
   "source": [
    "def evolve(n):\n",
    "    config.load('configMNIST')\n",
    "    # Create 2 separate populations (size is now defined explicitly, but config file can still be used)\n",
    "    module_pop = population.Population(20, chromosome.ModuleChromo)\n",
    "    # As the top hierarchical level, the blueprint population needs to be able to see the module population\n",
    "    blueprint_pop = population.Population(5, chromosome.BlueprintChromo, module_pop)\n",
    "    # Most of the actual evolving is now handled outside of the population, by CoDeepNEAT\n",
    "    # Instead of requiring the user to overwrite the evaluation function, CoDeepNEAT evaluates the populations itself,\n",
    "    # it simply requires a fitness function for the networks it creates passed in as an argument.\n",
    "    codeepneat.epoch(n, blueprint_pop, module_pop, 10, fitness, data, save_best=True, name='MNIST')\n",
    "    # It will still stop if fitness surpasses the max_fitness_threshold in config file\n",
    "    # Plots the evolution of the best/average fitness\n",
    "    visualize.plot_stats(module_pop.stats, name=\"MNISTmod_\")\n",
    "    visualize.plot_stats(blueprint_pop.stats, name=\"MNISTbp_\")\n",
    "    # Visualizes speciation\n",
    "    #visualize.plot_species(module_pop.species_log, name=\"NMISTmod_\")\n",
    "    #visualize.plot_species(blueprint_pop.species_log, name=\"NMISTbp_\")"
   ]
  },
  {
   "cell_type": "code",
   "execution_count": 6,
   "metadata": {
    "scrolled": false
   },
   "outputs": [
    {
     "name": "stdout",
     "output_type": "stream",
     "text": [
      "-----Generation 0--------\n",
      "Network 0\n",
      "Epoch 1/5\n",
      "60000/60000 [==============================] - 29s - loss: 14.3025 - acc: 0.1123    \n",
      "Epoch 2/5\n",
      "60000/60000 [==============================] - 28s - loss: 14.3070 - acc: 0.1124    \n",
      "Epoch 3/5\n",
      "60000/60000 [==============================] - 28s - loss: 14.3070 - acc: 0.1124    \n",
      "Epoch 4/5\n",
      "60000/60000 [==============================] - 28s - loss: 14.3070 - acc: 0.1124    \n",
      "Epoch 5/5\n",
      "60000/60000 [==============================] - 28s - loss: 14.3070 - acc: 0.1124    \n",
      " 9952/10000 [============================>.] - ETA: 0sNetwork 0 Fitness: 0.1135\n",
      "Network 1\n",
      "Epoch 1/5\n",
      "60000/60000 [==============================] - 8s - loss: 0.6031 - acc: 0.8304     \n",
      "Epoch 2/5\n",
      "60000/60000 [==============================] - 7s - loss: 0.2946 - acc: 0.9201     \n",
      "Epoch 3/5\n",
      "60000/60000 [==============================] - 7s - loss: 0.2225 - acc: 0.9366     \n",
      "Epoch 4/5\n",
      "60000/60000 [==============================] - 7s - loss: 0.1940 - acc: 0.9446     \n",
      "Epoch 5/5\n",
      "60000/60000 [==============================] - 8s - loss: 0.1784 - acc: 0.9492     \n",
      " 9440/10000 [===========================>..] - ETA: 0sNetwork 1 Fitness: 0.9461\n",
      "Network 2\n",
      "Epoch 1/5\n",
      "60000/60000 [==============================] - 20s - loss: 0.7216 - acc: 0.8795    \n",
      "Epoch 2/5\n",
      "60000/60000 [==============================] - 20s - loss: 0.3104 - acc: 0.9170    \n",
      "Epoch 3/5\n",
      "60000/60000 [==============================] - 20s - loss: 0.3068 - acc: 0.9176    \n",
      "Epoch 4/5\n",
      "60000/60000 [==============================] - 20s - loss: 0.3192 - acc: 0.9129    \n",
      "Epoch 5/5\n",
      "60000/60000 [==============================] - 20s - loss: 0.3233 - acc: 0.9102    \n",
      " 9760/10000 [============================>.] - ETA: 0sNetwork 2 Fitness: 0.8898\n",
      "Network 3\n",
      "Epoch 1/5\n",
      "60000/60000 [==============================] - 10s - loss: 0.4277 - acc: 0.8866    \n",
      "Epoch 2/5\n",
      "60000/60000 [==============================] - 10s - loss: 0.1505 - acc: 0.9562    \n",
      "Epoch 3/5\n",
      "60000/60000 [==============================] - 10s - loss: 0.1190 - acc: 0.9653    \n",
      "Epoch 4/5\n",
      "60000/60000 [==============================] - 10s - loss: 0.1017 - acc: 0.9705    \n",
      "Epoch 5/5\n",
      "60000/60000 [==============================] - 9s - loss: 0.0934 - acc: 0.9737     \n",
      " 9856/10000 [============================>.] - ETA: 0sNetwork 3 Fitness: 0.9632\n",
      "Network 4\n",
      "Epoch 1/5\n",
      "60000/60000 [==============================] - 8s - loss: 0.5423 - acc: 0.8398     \n",
      "Epoch 2/5\n",
      "60000/60000 [==============================] - 8s - loss: 0.2106 - acc: 0.9401     \n",
      "Epoch 3/5\n",
      "60000/60000 [==============================] - 8s - loss: 0.1804 - acc: 0.9487     \n",
      "Epoch 4/5\n",
      "60000/60000 [==============================] - 8s - loss: 0.1651 - acc: 0.9537     \n",
      "Epoch 5/5\n",
      "60000/60000 [==============================] - 8s - loss: 0.1548 - acc: 0.9565     \n",
      " 9792/10000 [============================>.] - ETA: 0sNetwork 4 Fitness: 0.9547\n",
      "Network 5\n",
      "Epoch 1/5\n",
      "60000/60000 [==============================] - 26s - loss: 12.9274 - acc: 0.1976    \n",
      "Epoch 2/5\n",
      "60000/60000 [==============================] - 26s - loss: 12.8758 - acc: 0.2011    \n",
      "Epoch 3/5\n",
      "60000/60000 [==============================] - 26s - loss: 12.6482 - acc: 0.2150    \n",
      "Epoch 4/5\n",
      "60000/60000 [==============================] - 26s - loss: 11.6780 - acc: 0.2753    \n",
      "Epoch 5/5\n",
      "60000/60000 [==============================] - 26s - loss: 11.6842 - acc: 0.2749    \n",
      " 9952/10000 [============================>.] - ETA: 0sNetwork 5 Fitness: 0.2779\n",
      "Network 6\n",
      "Epoch 1/5\n",
      "60000/60000 [==============================] - 20s - loss: 14.5274 - acc: 0.0985    \n",
      "Epoch 2/5\n",
      "60000/60000 [==============================] - 20s - loss: 14.5283 - acc: 0.0986    \n",
      "Epoch 3/5\n",
      "60000/60000 [==============================] - 20s - loss: 14.5283 - acc: 0.0986    \n",
      "Epoch 4/5\n",
      "60000/60000 [==============================] - 20s - loss: 14.5283 - acc: 0.0986    \n",
      "Epoch 5/5\n",
      "60000/60000 [==============================] - 20s - loss: 14.5283 - acc: 0.0986    \n",
      "10000/10000 [==============================] - 2s     \n",
      "Network 6 Fitness: 0.0958\n",
      "Network 7\n",
      "Epoch 1/5\n",
      "60000/60000 [==============================] - 10s - loss: 0.4099 - acc: 0.8916    \n",
      "Epoch 2/5\n",
      "60000/60000 [==============================] - 10s - loss: 0.1521 - acc: 0.9547    \n",
      "Epoch 3/5\n",
      "60000/60000 [==============================] - 9s - loss: 0.1205 - acc: 0.9655     \n",
      "Epoch 4/5\n",
      "60000/60000 [==============================] - 9s - loss: 0.1052 - acc: 0.9698     \n",
      "Epoch 5/5\n",
      "60000/60000 [==============================] - 10s - loss: 0.0945 - acc: 0.9721    \n",
      " 9888/10000 [============================>.] - ETA: 0sNetwork 7 Fitness: 0.9642\n",
      "Network 8\n",
      "Epoch 1/5\n",
      "60000/60000 [==============================] - 10s - loss: 0.4665 - acc: 0.8915    \n",
      "Epoch 2/5\n",
      "60000/60000 [==============================] - 10s - loss: 0.1451 - acc: 0.9579    \n",
      "Epoch 3/5\n",
      "60000/60000 [==============================] - 10s - loss: 0.1168 - acc: 0.9677    \n",
      "Epoch 4/5\n",
      "60000/60000 [==============================] - 10s - loss: 0.1043 - acc: 0.9704    \n",
      "Epoch 5/5\n",
      "60000/60000 [==============================] - 10s - loss: 0.0918 - acc: 0.9740    \n",
      " 9440/10000 [===========================>..] - ETA: 0sNetwork 8 Fitness: 0.9701\n",
      "Network 9\n",
      "Epoch 1/5\n",
      "60000/60000 [==============================] - 17s - loss: 9.4361 - acc: 0.4114    \n",
      "Epoch 2/5\n",
      "60000/60000 [==============================] - 17s - loss: 0.9284 - acc: 0.9000    \n",
      "Epoch 3/5\n",
      "60000/60000 [==============================] - 17s - loss: 0.1136 - acc: 0.9695    \n",
      "Epoch 4/5\n",
      "60000/60000 [==============================] - 17s - loss: 0.0875 - acc: 0.9765    \n",
      "Epoch 5/5\n",
      "60000/60000 [==============================] - 17s - loss: 0.0701 - acc: 0.9807    \n",
      "10000/10000 [==============================] - 2s     \n",
      "Network 9 Fitness: 0.9747\n",
      "-----Blueprints----------\n",
      "\n",
      " ****** Running generation 0 ****** \n",
      "\n",
      "Population's average fitness: 0.66614 stdev: 0.29897\n",
      "Best fitness: 0.95515 - size: 3 - species 1 - id 1\n",
      "Species length: 2 totalizing 10 individuals\n",
      "Species ID       : [1, 2]\n",
      "Each species size: [9, 1]\n",
      "Amount to spawn  : [2, 3]\n",
      "Species age      : [0, 0]\n",
      "Species no improv: [0, 0]\n"
     ]
    },
    {
     "ename": "NameError",
     "evalue": "name 'active_params' is not defined",
     "output_type": "error",
     "traceback": [
      "\u001b[0;31m---------------------------------------------------------------------------\u001b[0m",
      "\u001b[0;31mNameError\u001b[0m                                 Traceback (most recent call last)",
      "\u001b[0;32m<ipython-input-6-c3b6faae429d>\u001b[0m in \u001b[0;36m<module>\u001b[0;34m()\u001b[0m\n\u001b[0;32m----> 1\u001b[0;31m \u001b[0mevolve\u001b[0m\u001b[0;34m(\u001b[0m\u001b[0;36m5\u001b[0m\u001b[0;34m)\u001b[0m\u001b[0;34m\u001b[0m\u001b[0m\n\u001b[0m",
      "\u001b[0;32m<ipython-input-5-9675b69386e9>\u001b[0m in \u001b[0;36mevolve\u001b[0;34m(n)\u001b[0m\n\u001b[1;32m      8\u001b[0m     \u001b[0;31m# Instead of requiring the user to overwrite the evaluation function, CoDeepNEAT evaluates the populations itself,\u001b[0m\u001b[0;34m\u001b[0m\u001b[0;34m\u001b[0m\u001b[0m\n\u001b[1;32m      9\u001b[0m     \u001b[0;31m# it simply requires a fitness function for the networks it creates passed in as an argument.\u001b[0m\u001b[0;34m\u001b[0m\u001b[0;34m\u001b[0m\u001b[0m\n\u001b[0;32m---> 10\u001b[0;31m     \u001b[0mcodeepneat\u001b[0m\u001b[0;34m.\u001b[0m\u001b[0mepoch\u001b[0m\u001b[0;34m(\u001b[0m\u001b[0mn\u001b[0m\u001b[0;34m,\u001b[0m \u001b[0mblueprint_pop\u001b[0m\u001b[0;34m,\u001b[0m \u001b[0mmodule_pop\u001b[0m\u001b[0;34m,\u001b[0m \u001b[0;36m10\u001b[0m\u001b[0;34m,\u001b[0m \u001b[0mfitness\u001b[0m\u001b[0;34m,\u001b[0m \u001b[0mdata\u001b[0m\u001b[0;34m,\u001b[0m \u001b[0msave_best\u001b[0m\u001b[0;34m=\u001b[0m\u001b[0;32mTrue\u001b[0m\u001b[0;34m,\u001b[0m \u001b[0mname\u001b[0m\u001b[0;34m=\u001b[0m\u001b[0;34m'MNIST'\u001b[0m\u001b[0;34m)\u001b[0m\u001b[0;34m\u001b[0m\u001b[0m\n\u001b[0m\u001b[1;32m     11\u001b[0m     \u001b[0;31m# It will still stop if fitness surpasses the max_fitness_threshold in config file\u001b[0m\u001b[0;34m\u001b[0m\u001b[0;34m\u001b[0m\u001b[0m\n\u001b[1;32m     12\u001b[0m     \u001b[0;31m# Plots the evolution of the best/average fitness\u001b[0m\u001b[0;34m\u001b[0m\u001b[0;34m\u001b[0m\u001b[0m\n",
      "\u001b[0;32m~/CS81/project/experiment/CDNEAT/codeepneat/codeepneat.py\u001b[0m in \u001b[0;36mepoch\u001b[0;34m(n, pop1, pop2, num_networks, f, data, save_best, name, report)\u001b[0m\n\u001b[1;32m     65\u001b[0m         \u001b[0mbest_model\u001b[0m \u001b[0;34m=\u001b[0m \u001b[0mevaluate\u001b[0m\u001b[0;34m(\u001b[0m\u001b[0mpop1\u001b[0m\u001b[0;34m,\u001b[0m \u001b[0mpop2\u001b[0m\u001b[0;34m,\u001b[0m \u001b[0mnum_networks\u001b[0m\u001b[0;34m,\u001b[0m \u001b[0mf\u001b[0m\u001b[0;34m,\u001b[0m \u001b[0mdata\u001b[0m\u001b[0;34m)\u001b[0m\u001b[0;34m\u001b[0m\u001b[0m\n\u001b[1;32m     66\u001b[0m         \u001b[0mprint\u001b[0m\u001b[0;34m(\u001b[0m\u001b[0;34m\"-----Blueprints----------\"\u001b[0m\u001b[0;34m)\u001b[0m\u001b[0;34m\u001b[0m\u001b[0m\n\u001b[0;32m---> 67\u001b[0;31m         \u001b[0mj\u001b[0m \u001b[0;34m=\u001b[0m \u001b[0mpop1\u001b[0m\u001b[0;34m.\u001b[0m\u001b[0mepoch\u001b[0m\u001b[0;34m(\u001b[0m\u001b[0mg\u001b[0m\u001b[0;34m,\u001b[0m \u001b[0mreport\u001b[0m\u001b[0;34m,\u001b[0m \u001b[0;32mFalse\u001b[0m\u001b[0;34m,\u001b[0m \u001b[0mname\u001b[0m\u001b[0;34m)\u001b[0m\u001b[0;34m\u001b[0m\u001b[0m\n\u001b[0m\u001b[1;32m     68\u001b[0m         \u001b[0mprint\u001b[0m\u001b[0;34m(\u001b[0m\u001b[0;34m\"-----Modules-----------\"\u001b[0m\u001b[0;34m)\u001b[0m\u001b[0;34m\u001b[0m\u001b[0m\n\u001b[1;32m     69\u001b[0m         \u001b[0mk\u001b[0m \u001b[0;34m=\u001b[0m \u001b[0mpop2\u001b[0m\u001b[0;34m.\u001b[0m\u001b[0mepoch\u001b[0m\u001b[0;34m(\u001b[0m\u001b[0mg\u001b[0m\u001b[0;34m,\u001b[0m \u001b[0mreport\u001b[0m\u001b[0;34m,\u001b[0m \u001b[0;32mFalse\u001b[0m\u001b[0;34m,\u001b[0m \u001b[0mname\u001b[0m\u001b[0;34m)\u001b[0m\u001b[0;34m\u001b[0m\u001b[0m\n",
      "\u001b[0;32m~/CS81/project/experiment/CDNEAT/codeepneat/population.py\u001b[0m in \u001b[0;36mepoch\u001b[0;34m(self, g, report, save_best, checkpoint_interval, checkpoint_generation, name)\u001b[0m\n\u001b[1;32m    370\u001b[0m         \u001b[0;31m# Spawning new population\u001b[0m\u001b[0;34m\u001b[0m\u001b[0;34m\u001b[0m\u001b[0m\n\u001b[1;32m    371\u001b[0m         \u001b[0;32mfor\u001b[0m \u001b[0ms\u001b[0m \u001b[0;32min\u001b[0m \u001b[0mself\u001b[0m\u001b[0;34m.\u001b[0m\u001b[0m__species\u001b[0m\u001b[0;34m:\u001b[0m\u001b[0;34m\u001b[0m\u001b[0m\n\u001b[0;32m--> 372\u001b[0;31m             \u001b[0mnew_population\u001b[0m\u001b[0;34m.\u001b[0m\u001b[0mextend\u001b[0m\u001b[0;34m(\u001b[0m\u001b[0ms\u001b[0m\u001b[0;34m.\u001b[0m\u001b[0mreproduce\u001b[0m\u001b[0;34m(\u001b[0m\u001b[0;34m)\u001b[0m\u001b[0;34m)\u001b[0m\u001b[0;34m\u001b[0m\u001b[0m\n\u001b[0m\u001b[1;32m    373\u001b[0m \u001b[0;34m\u001b[0m\u001b[0m\n\u001b[1;32m    374\u001b[0m         \u001b[0;31m# Remove stagnated species and its members\u001b[0m\u001b[0;34m\u001b[0m\u001b[0;34m\u001b[0m\u001b[0m\n",
      "\u001b[0;32m~/CS81/project/experiment/CDNEAT/codeepneat/species.py\u001b[0m in \u001b[0;36mreproduce\u001b[0;34m(self)\u001b[0m\n\u001b[1;32m    140\u001b[0m                 \u001b[0;32massert\u001b[0m \u001b[0mparent1\u001b[0m\u001b[0;34m.\u001b[0m\u001b[0mspecies_id\u001b[0m \u001b[0;34m==\u001b[0m \u001b[0mparent2\u001b[0m\u001b[0;34m.\u001b[0m\u001b[0mspecies_id\u001b[0m\u001b[0;34m,\u001b[0m\u001b[0;31m \u001b[0m\u001b[0;31m\\\u001b[0m\u001b[0;34m\u001b[0m\u001b[0m\n\u001b[1;32m    141\u001b[0m                        \u001b[0;34m\"Parents has different species id.\"\u001b[0m\u001b[0;34m\u001b[0m\u001b[0m\n\u001b[0;32m--> 142\u001b[0;31m                 \u001b[0mchild\u001b[0m \u001b[0;34m=\u001b[0m \u001b[0mparent1\u001b[0m\u001b[0;34m.\u001b[0m\u001b[0mcrossover\u001b[0m\u001b[0;34m(\u001b[0m\u001b[0mparent2\u001b[0m\u001b[0;34m)\u001b[0m\u001b[0;34m\u001b[0m\u001b[0m\n\u001b[0m\u001b[1;32m    143\u001b[0m                 \u001b[0moffspring\u001b[0m\u001b[0;34m.\u001b[0m\u001b[0mappend\u001b[0m\u001b[0;34m(\u001b[0m\u001b[0mchild\u001b[0m\u001b[0;34m.\u001b[0m\u001b[0mmutate\u001b[0m\u001b[0;34m(\u001b[0m\u001b[0;34m)\u001b[0m\u001b[0;34m)\u001b[0m\u001b[0;34m\u001b[0m\u001b[0m\n\u001b[1;32m    144\u001b[0m             \u001b[0;32melse\u001b[0m\u001b[0;34m:\u001b[0m\u001b[0;34m\u001b[0m\u001b[0m\n",
      "\u001b[0;32m~/CS81/project/experiment/CDNEAT/codeepneat/chromosome.py\u001b[0m in \u001b[0;36mcrossover\u001b[0;34m(self, other)\u001b[0m\n\u001b[1;32m    152\u001b[0m \u001b[0;34m\u001b[0m\u001b[0m\n\u001b[1;32m    153\u001b[0m         \u001b[0;31m# creates a new child\u001b[0m\u001b[0;34m\u001b[0m\u001b[0;34m\u001b[0m\u001b[0m\n\u001b[0;32m--> 154\u001b[0;31m         \u001b[0mchild\u001b[0m \u001b[0;34m=\u001b[0m \u001b[0mself\u001b[0m\u001b[0;34m.\u001b[0m\u001b[0m__class__\u001b[0m\u001b[0;34m(\u001b[0m\u001b[0mself\u001b[0m\u001b[0;34m.\u001b[0m\u001b[0mid\u001b[0m\u001b[0;34m,\u001b[0m \u001b[0mother\u001b[0m\u001b[0;34m.\u001b[0m\u001b[0mid\u001b[0m\u001b[0;34m,\u001b[0m \u001b[0mself\u001b[0m\u001b[0;34m.\u001b[0m\u001b[0m_module_pop\u001b[0m\u001b[0;34m,\u001b[0m \u001b[0mactive_params\u001b[0m\u001b[0;34m)\u001b[0m\u001b[0;34m\u001b[0m\u001b[0m\n\u001b[0m\u001b[1;32m    155\u001b[0m \u001b[0;34m\u001b[0m\u001b[0m\n\u001b[1;32m    156\u001b[0m         \u001b[0mchild\u001b[0m\u001b[0;34m.\u001b[0m\u001b[0m_inherit_genes\u001b[0m\u001b[0;34m(\u001b[0m\u001b[0mparent1\u001b[0m\u001b[0;34m,\u001b[0m \u001b[0mparent2\u001b[0m\u001b[0;34m)\u001b[0m\u001b[0;34m\u001b[0m\u001b[0m\n",
      "\u001b[0;31mNameError\u001b[0m: name 'active_params' is not defined"
     ]
    }
   ],
   "source": [
    "evolve(5)"
   ]
  },
  {
   "cell_type": "code",
   "execution_count": null,
   "metadata": {},
   "outputs": [],
   "source": [
    "def eval_best(chromo_file):\n",
    "    config.load('configMNIST')\n",
    "    fp = open(chromo_file, \"rb\")\n",
    "    chromo = pickle.load(fp)\n",
    "    print(chromo)\n",
    "    fp.close()\n",
    "    visualize.draw_net(chromo, \"_\" + chromo_file)    \n",
    "    network = codeepneat.produce_net(chromo)\n",
    "    network.fit(x_train, y_train, epochs=50)\n",
    "    fitness = network.evaluate(x_test, y_test)\n",
    "    print(\"fitness\", fitness)"
   ]
  },
  {
   "cell_type": "code",
   "execution_count": null,
   "metadata": {},
   "outputs": [],
   "source": [
    "eval_best(\"best_chromo_0\")"
   ]
  },
  {
   "cell_type": "code",
   "execution_count": null,
   "metadata": {},
   "outputs": [],
   "source": []
  }
 ],
 "metadata": {
  "kernelspec": {
   "display_name": "Python 3",
   "language": "python",
   "name": "python3"
  },
  "language_info": {
   "codemirror_mode": {
    "name": "ipython",
    "version": 3
   },
   "file_extension": ".py",
   "mimetype": "text/x-python",
   "name": "python",
   "nbconvert_exporter": "python",
   "pygments_lexer": "ipython3",
   "version": "3.5.2"
  }
 },
 "nbformat": 4,
 "nbformat_minor": 2
}
