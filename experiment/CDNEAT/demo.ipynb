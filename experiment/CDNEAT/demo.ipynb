{
 "cells": [
  {
   "cell_type": "markdown",
   "metadata": {},
   "source": [
    "# CoDeepNEAT demo\n",
    "## CS081 project checkpoint demo\n",
    "### Harsha Uppli, Alan Zhao, Gabriel Meyer-Lee\n",
    "\n",
    "The following notebook demonstrates using CoDeepNEAT to solve MNIST"
   ]
  },
  {
   "cell_type": "code",
   "execution_count": 1,
   "metadata": {},
   "outputs": [
    {
     "name": "stderr",
     "output_type": "stream",
     "text": [
      "Using TensorFlow backend.\n"
     ]
    }
   ],
   "source": [
    "from math import pi, floor\n",
    "from random import random\n",
    "from codeepneat import codeepneat, config, population, chromosome, genome, visualize\n",
    "import pickle\n",
    "import numpy as np\n",
    "import keras"
   ]
  },
  {
   "cell_type": "markdown",
   "metadata": {},
   "source": [
    "### Sample problem: MNIST data set\n",
    "\n",
    "The MNIST data set of handwritten gray scale images of digits 0-9 is a classic computer vision data set and therefore makes for good testing. Conveniently, it's also built into Keras, which our CoDeepNEAT imiplementation is built off of."
   ]
  },
  {
   "cell_type": "code",
   "execution_count": 2,
   "metadata": {},
   "outputs": [],
   "source": [
    "(x_train, y_train), (x_test, y_test) = keras.datasets.mnist.load_data()\n",
    "trainx = np.reshape(x_train,(60000,28,28,1))\n",
    "testx = np.reshape(x_test, (10000,28,28,1))\n",
    "trainy = keras.utils.np_utils.to_categorical(y_train, 10)\n",
    "testy = keras.utils.np_utils.to_categorical(y_test, 10)\n",
    "data = [trainx, trainy, testx, testy]"
   ]
  },
  {
   "cell_type": "markdown",
   "metadata": {},
   "source": [
    "### Configuring NEAT\n",
    "\n",
    "Many of the options and inputs are still handled through the config file. The config file has been shortened considerably as many parameters have been eliminated, although many parameters have also been introduced which could be added."
   ]
  },
  {
   "cell_type": "code",
   "execution_count": 3,
   "metadata": {},
   "outputs": [
    {
     "name": "stdout",
     "output_type": "stream",
     "text": [
      "Overwriting configMNIST\n"
     ]
    }
   ],
   "source": [
    "%%file configMNIST\n",
    "#--- parameters for the robot experiment ---#\n",
    "[phenotype]\n",
    "input_nodes         = 28,28,1\n",
    "output_nodes        = 10\n",
    "conv                = True\n",
    "\n",
    "[genetic]\n",
    "max_fitness_threshold = 1\n",
    "\n",
    "# Human reasoning\n",
    "pop_size              = 10\n",
    "prob_addconv          = 1\n",
    "prob_addlayer         = 0.1\n",
    "prob_addmodule        = 0.05\n",
    "elitism               = 1\n",
    "\n",
    "[genotype compatibility]\n",
    "compatibility_threshold = 3.0\n",
    "compatibility_change    = 0.0\n",
    "excess_coeficient       = 1.0\n",
    "disjoint_coeficient     = 1.0\n",
    "connection_coeficient   = 0.4\n",
    "\n",
    "[species]\n",
    "species_size        = 5\n",
    "survival_threshold  = 0.2\n",
    "old_threshold       = 30\n",
    "youth_threshold     = 10\n",
    "old_penalty         = 0.2\n",
    "youth_boost         = 1.2\n",
    "max_stagnation      = 15"
   ]
  },
  {
   "cell_type": "markdown",
   "metadata": {},
   "source": [
    "### Fitness\n",
    "\n",
    "For this demonstration we'll be using supervised learning to train the networks produced by CoDeepNEAT on NMIST and then use their accuracy after 10 epochs as their fitness."
   ]
  },
  {
   "cell_type": "code",
   "execution_count": 4,
   "metadata": {},
   "outputs": [],
   "source": [
    "def fitness(network, data):\n",
    "    network.fit(data[0], data[1],  epochs=5)\n",
    "    loss, acc = network.evaluate(data[2], data[3])\n",
    "    return acc"
   ]
  },
  {
   "cell_type": "markdown",
   "metadata": {},
   "source": [
    "### Evolution\n",
    "\n",
    "Evolution with CoDeepNEAT is slightly different than evolution with NEAT. The main difference is coevolution, where we have two separate populations with a hierarchical relationship evolving together."
   ]
  },
  {
   "cell_type": "code",
   "execution_count": 5,
   "metadata": {},
   "outputs": [],
   "source": [
    "def evolve(n):\n",
    "    config.load('configMNIST')\n",
    "    # Create 2 separate populations (size is now defined explicitly, but config file can still be used)\n",
    "    module_pop = population.Population(20, chromosome.ModuleChromo)\n",
    "    # As the top hierarchical level, the blueprint population needs to be able to see the module population\n",
    "    blueprint_pop = population.Population(5, chromosome.BlueprintChromo, module_pop)\n",
    "    # Most of the actual evolving is now handled outside of the population, by CoDeepNEAT\n",
    "    # Instead of requiring the user to overwrite the evaluation function, CoDeepNEAT evaluates the populations itself,\n",
    "    # it simply requires a fitness function for the networks it creates passed in as an argument.\n",
    "    codeepneat.epoch(n, blueprint_pop, module_pop, 10, fitness, data, save_best=True, name='MNIST')\n",
    "    # It will still stop if fitness surpasses the max_fitness_threshold in config file\n",
    "    # Plots the evolution of the best/average fitness\n",
    "    visualize.plot_stats(module_pop.stats, name=\"MNISTmod_\")\n",
    "    visualize.plot_stats(blueprint_pop.stats, name=\"MNISTbp_\")\n",
    "    # Visualizes speciation\n",
    "    #visualize.plot_species(module_pop.species_log, name=\"NMISTmod_\")\n",
    "    #visualize.plot_species(blueprint_pop.species_log, name=\"NMISTbp_\")"
   ]
  },
  {
   "cell_type": "code",
   "execution_count": 6,
   "metadata": {
    "scrolled": false
   },
   "outputs": [
    {
     "name": "stdout",
     "output_type": "stream",
     "text": [
      "-----Generation 0--------\n",
      "Network 0\n",
      "Epoch 1/5\n",
      "60000/60000 [==============================] - 6s - loss: 1.4036 - acc: 0.6943     \n",
      "Epoch 2/5\n",
      "60000/60000 [==============================] - 4s - loss: 0.4946 - acc: 0.8663     \n",
      "Epoch 3/5\n",
      "60000/60000 [==============================] - 4s - loss: 0.3724 - acc: 0.9053     \n",
      "Epoch 4/5\n",
      "60000/60000 [==============================] - 4s - loss: 0.3271 - acc: 0.9196     \n",
      "Epoch 5/5\n",
      "60000/60000 [==============================] - 4s - loss: 0.3103 - acc: 0.9256     \n",
      " 9120/10000 [==========================>...] - ETA: 0s\n",
      "Network 0 Fitness: 0.9251\n",
      "Network 1\n",
      "Epoch 1/5\n",
      "60000/60000 [==============================] - 3s - loss: 10.4515 - acc: 0.3486     \n",
      "Epoch 2/5\n",
      "60000/60000 [==============================] - 4s - loss: 10.0599 - acc: 0.3745     \n",
      "Epoch 3/5\n",
      "60000/60000 [==============================] - 4s - loss: 9.9906 - acc: 0.3791     \n",
      "Epoch 4/5\n",
      "60000/60000 [==============================] - 4s - loss: 9.9744 - acc: 0.3804     \n",
      "Epoch 5/5\n",
      "60000/60000 [==============================] - 3s - loss: 9.9330 - acc: 0.3831     \n",
      " 9472/10000 [===========================>..] - ETA: 0s\n",
      "Network 1 Fitness: 0.3903\n",
      "Network 2\n",
      "Epoch 1/5\n",
      "60000/60000 [==============================] - 3s - loss: 14.5459 - acc: 0.0975     \n",
      "Epoch 2/5\n",
      "60000/60000 [==============================] - 3s - loss: 14.1858 - acc: 0.1195     \n",
      "Epoch 3/5\n",
      "60000/60000 [==============================] - 3s - loss: 13.0461 - acc: 0.1900     \n",
      "Epoch 4/5\n",
      "60000/60000 [==============================] - 4s - loss: 9.9241 - acc: 0.3823     \n",
      "Epoch 5/5\n",
      "60000/60000 [==============================] - 4s - loss: 9.1103 - acc: 0.4336     \n",
      " 9152/10000 [==========================>...] - ETA: 0s\n",
      "Network 2 Fitness: 0.4305\n",
      "Network 3\n",
      "Epoch 1/5\n",
      "60000/60000 [==============================] - 4s - loss: 2.6826 - acc: 0.6209     \n",
      "Epoch 2/5\n",
      "60000/60000 [==============================] - 4s - loss: 0.7637 - acc: 0.8188     \n",
      "Epoch 3/5\n",
      "60000/60000 [==============================] - 4s - loss: 0.6127 - acc: 0.8673     \n",
      "Epoch 4/5\n",
      "60000/60000 [==============================] - 4s - loss: 0.5219 - acc: 0.8881     \n",
      "Epoch 5/5\n",
      "60000/60000 [==============================] - 3s - loss: 0.4730 - acc: 0.8972     \n",
      " 8832/10000 [=========================>....] - ETA: 0s\n",
      "Network 3 Fitness: 0.8981\n",
      "Network 4\n",
      "Epoch 1/5\n",
      "60000/60000 [==============================] - 4s - loss: 1.2980 - acc: 0.8399     \n",
      "Epoch 2/5\n",
      "60000/60000 [==============================] - 4s - loss: 0.2858 - acc: 0.9331     \n",
      "Epoch 3/5\n",
      "60000/60000 [==============================] - 5s - loss: 0.2375 - acc: 0.9477     \n",
      "Epoch 4/5\n",
      "60000/60000 [==============================] - 4s - loss: 0.2399 - acc: 0.9515     \n",
      "Epoch 5/5\n",
      "60000/60000 [==============================] - 4s - loss: 0.2355 - acc: 0.9547     \n",
      " 9024/10000 [==========================>...] - ETA: 0s\n",
      "Network 4 Fitness: 0.9607\n",
      "-----Blueprints----------\n",
      "\n",
      " ****** Running generation 0 ****** \n",
      "\n",
      "Population's average fitness: 0.73862 stdev: 0.15347\n",
      "Best fitness: 0.9429 - size: 4 - species 1 - id 2\n",
      "Species length: 2 totalizing 6 individuals\n",
      "Species ID       : [1, 2]\n",
      "Each species size: [4, 2]\n",
      "Amount to spawn  : [2, 1]\n",
      "Species age      : [0, 0]\n",
      "Species no improv: [0, 0]\n",
      "-----Modules-----------\n",
      "\n",
      " ****** Running generation 0 ****** \n",
      "\n",
      "Population's average fitness: 0.71047 stdev: 0.18037\n",
      "Best fitness: 0.9607 - size: 1 - species 1 - id 10\n",
      "Species length: 1 totalizing 20 individuals\n",
      "Species ID       : [1]\n",
      "Each species size: [20]\n",
      "Amount to spawn  : [10]\n",
      "Species age      : [0]\n",
      "Species no improv: [0]\n",
      "-----Generation 1--------\n"
     ]
    },
    {
     "ename": "KeyboardInterrupt",
     "evalue": "",
     "output_type": "error",
     "traceback": [
      "\u001b[0;31m-----------------------------------------------------------------------\u001b[0m",
      "\u001b[0;31mKeyboardInterrupt\u001b[0m                     Traceback (most recent call last)",
      "\u001b[0;32m<ipython-input-6-c3b6faae429d>\u001b[0m in \u001b[0;36m<module>\u001b[0;34m()\u001b[0m\n\u001b[0;32m----> 1\u001b[0;31m \u001b[0mevolve\u001b[0m\u001b[0;34m(\u001b[0m\u001b[0;36m5\u001b[0m\u001b[0;34m)\u001b[0m\u001b[0;34m\u001b[0m\u001b[0m\n\u001b[0m",
      "\u001b[0;32m<ipython-input-5-8dfd3135eef8>\u001b[0m in \u001b[0;36mevolve\u001b[0;34m(n)\u001b[0m\n\u001b[1;32m      8\u001b[0m     \u001b[0;31m# Instead of requiring the user to overwrite the evaluation function, CoDeepNEAT evaluates the populations itself,\u001b[0m\u001b[0;34m\u001b[0m\u001b[0;34m\u001b[0m\u001b[0m\n\u001b[1;32m      9\u001b[0m     \u001b[0;31m# it simply requires a fitness function for the networks it creates passed in as an argument.\u001b[0m\u001b[0;34m\u001b[0m\u001b[0;34m\u001b[0m\u001b[0m\n\u001b[0;32m---> 10\u001b[0;31m     \u001b[0mcodeepneat\u001b[0m\u001b[0;34m.\u001b[0m\u001b[0mepoch\u001b[0m\u001b[0;34m(\u001b[0m\u001b[0mn\u001b[0m\u001b[0;34m,\u001b[0m \u001b[0mblueprint_pop\u001b[0m\u001b[0;34m,\u001b[0m \u001b[0mmodule_pop\u001b[0m\u001b[0;34m,\u001b[0m \u001b[0;36m5\u001b[0m\u001b[0;34m,\u001b[0m \u001b[0mfitness\u001b[0m\u001b[0;34m,\u001b[0m \u001b[0mdata\u001b[0m\u001b[0;34m,\u001b[0m \u001b[0msave_best\u001b[0m\u001b[0;34m=\u001b[0m\u001b[0;32mTrue\u001b[0m\u001b[0;34m,\u001b[0m \u001b[0mname\u001b[0m\u001b[0;34m=\u001b[0m\u001b[0;34m'MNIST'\u001b[0m\u001b[0;34m)\u001b[0m\u001b[0;34m\u001b[0m\u001b[0m\n\u001b[0m\u001b[1;32m     11\u001b[0m     \u001b[0;31m# It will still stop if fitness surpasses the max_fitness_threshold in config file\u001b[0m\u001b[0;34m\u001b[0m\u001b[0;34m\u001b[0m\u001b[0m\n\u001b[1;32m     12\u001b[0m     \u001b[0;31m# Plots the evolution of the best/average fitness\u001b[0m\u001b[0;34m\u001b[0m\u001b[0;34m\u001b[0m\u001b[0m\n",
      "\u001b[0;32m~/CS81/project/experiment/CDNEAT/codeepneat/codeepneat.py\u001b[0m in \u001b[0;36mepoch\u001b[0;34m(n, pop1, pop2, num_networks, f, data, save_best, name, report)\u001b[0m\n\u001b[1;32m     78\u001b[0m     \u001b[0mpop2\u001b[0m \u001b[0;34m=\u001b[0m \u001b[0mpop2\u001b[0m\u001b[0;34m\u001b[0m\u001b[0m\n\u001b[1;32m     79\u001b[0m     \u001b[0mnum_networks\u001b[0m \u001b[0;34m=\u001b[0m \u001b[0mnum_networks\u001b[0m\u001b[0;34m\u001b[0m\u001b[0m\n\u001b[0;32m---> 80\u001b[0;31m     \u001b[0mf\u001b[0m \u001b[0;34m=\u001b[0m \u001b[0mf\u001b[0m\u001b[0;34m\u001b[0m\u001b[0m\n\u001b[0m\u001b[1;32m     81\u001b[0m     \u001b[0mdata\u001b[0m \u001b[0mdata\u001b[0m\u001b[0;34m\u001b[0m\u001b[0m\n\u001b[1;32m     82\u001b[0m     \u001b[0msave_best\u001b[0m\u001b[0;34m=\u001b[0m\u001b[0msave_bet\u001b[0m\u001b[0;34m\u001b[0m\u001b[0m\n",
      "\u001b[0;32m~/CS81/project/experiment/CDNEAT/codeepneat/codeepneat.py\u001b[0m in \u001b[0;36mevaluate\u001b[0;34m(blueprint_pop, module_pop, num_networks, f, data)\u001b[0m\n\u001b[1;32m     44\u001b[0m     \u001b[0;32mfor\u001b[0m \u001b[0mi\u001b[0m \u001b[0;32min\u001b[0m \u001b[0mrange\u001b[0m\u001b[0;34m(\u001b[0m\u001b[0mnum_networks\u001b[0m\u001b[0;34m)\u001b[0m\u001b[0;34m:\u001b[0m\u001b[0;34m\u001b[0m\u001b[0m\n\u001b[1;32m     45\u001b[0m         \u001b[0mbp\u001b[0m \u001b[0;34m=\u001b[0m \u001b[0mrandom\u001b[0m\u001b[0;34m.\u001b[0m\u001b[0mchoice\u001b[0m\u001b[0;34m(\u001b[0m\u001b[0mblueprint_pop\u001b[0m\u001b[0;34m)\u001b[0m\u001b[0;34m\u001b[0m\u001b[0m\n\u001b[0;32m---> 46\u001b[0;31m         \u001b[0mnet\u001b[0m \u001b[0;34m=\u001b[0m \u001b[0mproduce_net\u001b[0m\u001b[0;34m(\u001b[0m\u001b[0mbp\u001b[0m\u001b[0;34m)\u001b[0m\u001b[0;34m\u001b[0m\u001b[0m\n\u001b[0m\u001b[1;32m     47\u001b[0m         \u001b[0mbp\u001b[0m\u001b[0;34m.\u001b[0m\u001b[0mnum_use\u001b[0m \u001b[0;34m+=\u001b[0m \u001b[0;36m1\u001b[0m\u001b[0;34m\u001b[0m\u001b[0m\n\u001b[1;32m     48\u001b[0m         \u001b[0;32mfor\u001b[0m \u001b[0mmodule\u001b[0m \u001b[0;32min\u001b[0m \u001b[0mlist\u001b[0m\u001b[0;34m(\u001b[0m\u001b[0mbp\u001b[0m\u001b[0;34m.\u001b[0m\u001b[0m_species_indiv\u001b[0m\u001b[0;34m.\u001b[0m\u001b[0mvalues\u001b[0m\u001b[0;34m(\u001b[0m\u001b[0;34m)\u001b[0m\u001b[0;34m)\u001b[0m\u001b[0;34m:\u001b[0m\u001b[0;34m\u001b[0m\u001b[0m\n",
      "\u001b[0;32m~/CS81/project/experiment/CDNEAT/codeepneat/codeepneat.py\u001b[0m in \u001b[0;36mproduce_net\u001b[0;34m(bp)\u001b[0m\n\u001b[1;32m     11\u001b[0m \u001b[0;32mdef\u001b[0m \u001b[0mproduce_net\u001b[0m\u001b[0;34m(\u001b[0m\u001b[0mbp\u001b[0m\u001b[0;34m)\u001b[0m\u001b[0;34m:\u001b[0m\u001b[0;34m\u001b[0m\u001b[0m\n\u001b[1;32m     12\u001b[0m     \u001b[0minputs\u001b[0m \u001b[0;34m=\u001b[0m \u001b[0mkeras\u001b[0m\u001b[0;34m.\u001b[0m\u001b[0mlayers\u001b[0m\u001b[0;34m.\u001b[0m\u001b[0mInput\u001b[0m\u001b[0;34m(\u001b[0m\u001b[0mConfig\u001b[0m\u001b[0;34m.\u001b[0m\u001b[0minput_nodes\u001b[0m\u001b[0;34m,\u001b[0m \u001b[0mname\u001b[0m\u001b[0;34m=\u001b[0m\u001b[0;34m'input'\u001b[0m\u001b[0;34m)\u001b[0m\u001b[0;34m\u001b[0m\u001b[0m\n\u001b[0;32m---> 13\u001b[0;31m     \u001b[0mx\u001b[0m \u001b[0;34m=\u001b[0m \u001b[0mbp\u001b[0m\u001b[0;34m.\u001b[0m\u001b[0mdecode\u001b[0m\u001b[0;34m(\u001b[0m\u001b[0minputs\u001b[0m\u001b[0;34m)\u001b[0m\u001b[0;34m\u001b[0m\u001b[0m\n\u001b[0m\u001b[1;32m     14\u001b[0m     \u001b[0mx_dim\u001b[0m \u001b[0;34m=\u001b[0m \u001b[0mlen\u001b[0m\u001b[0;34m(\u001b[0m\u001b[0mkeras\u001b[0m\u001b[0;34m.\u001b[0m\u001b[0mbackend\u001b[0m\u001b[0;34m.\u001b[0m\u001b[0mint_shape\u001b[0m\u001b[0;34m(\u001b[0m\u001b[0mx\u001b[0m\u001b[0;34m)\u001b[0m\u001b[0;34m[\u001b[0m\u001b[0;36m1\u001b[0m\u001b[0;34m:\u001b[0m\u001b[0;34m]\u001b[0m\u001b[0;34m)\u001b[0m\u001b[0;34m\u001b[0m\u001b[0m\n\u001b[1;32m     15\u001b[0m     \u001b[0;32mif\u001b[0m \u001b[0mx_dim\u001b[0m \u001b[0;34m>\u001b[0m \u001b[0;36m2\u001b[0m\u001b[0;34m:\u001b[0m\u001b[0;34m\u001b[0m\u001b[0m\n",
      "\u001b[0;32m~/CS81/project/experiment/CDNEAT/codeepneat/chromosome.py\u001b[0m in \u001b[0;36mdecode\u001b[0;34m(self, inputs)\u001b[0m\n\u001b[1;32m    176\u001b[0m \u001b[0;34m\u001b[0m\u001b[0m\n\u001b[1;32m    177\u001b[0m     \u001b[0;32mdef\u001b[0m \u001b[0mdecode\u001b[0m\u001b[0;34m(\u001b[0m\u001b[0mself\u001b[0m\u001b[0;34m,\u001b[0m \u001b[0minputs\u001b[0m\u001b[0;34m)\u001b[0m\u001b[0;34m:\u001b[0m\u001b[0;34m\u001b[0m\u001b[0m\n\u001b[0;32m--> 178\u001b[0;31m         \u001b[0mself\u001b[0m\u001b[0;34m.\u001b[0m\u001b[0m__get_species_indiv\u001b[0m\u001b[0;34m(\u001b[0m\u001b[0;34m)\u001b[0m\u001b[0;34m\u001b[0m\u001b[0m\n\u001b[0m\u001b[1;32m    179\u001b[0m         \u001b[0mnext\u001b[0m \u001b[0;34m=\u001b[0m \u001b[0minputs\u001b[0m\u001b[0;34m\u001b[0m\u001b[0m\n\u001b[1;32m    180\u001b[0m         \u001b[0;32mfor\u001b[0m \u001b[0mg\u001b[0m \u001b[0;32min\u001b[0m \u001b[0mself\u001b[0m\u001b[0;34m.\u001b[0m\u001b[0m_genes\u001b[0m\u001b[0;34m:\u001b[0m\u001b[0;34m\u001b[0m\u001b[0m\n",
      "\u001b[0;32m~/CS81/project/experiment/CDNEAT/codeepneat/chromosome.py\u001b[0m in \u001b[0;36m__get_species_indiv\u001b[0;34m(self)\u001b[0m\n\u001b[1;32m    167\u001b[0m           \u001b[0;32mfor\u001b[0m \u001b[0mi\u001b[0m \u001b[0;32min\u001b[0m \u001b[0mrange\u001b[0m\u001b[0;34m(\u001b[0m\u001b[0mlen\u001b[0m\u001b[0;34m(\u001b[0m\u001b[0mself\u001b[0m\u001b[0;34m.\u001b[0m\u001b[0m_genes\u001b[0m\u001b[0;34m)\u001b[0m\u001b[0;34m)\u001b[0m\u001b[0;34m:\u001b[0m\u001b[0;34m\u001b[0m\u001b[0m\n\u001b[1;32m    168\u001b[0m               \u001b[0;32mif\u001b[0m \u001b[0;32mnot\u001b[0m \u001b[0;34m(\u001b[0m\u001b[0mself\u001b[0m\u001b[0;34m.\u001b[0m\u001b[0m_module_pop\u001b[0m\u001b[0;34m.\u001b[0m\u001b[0mhas_species\u001b[0m\u001b[0;34m(\u001b[0m\u001b[0mself\u001b[0m\u001b[0;34m.\u001b[0m\u001b[0m_genes\u001b[0m\u001b[0;34m[\u001b[0m\u001b[0mi\u001b[0m\u001b[0;34m]\u001b[0m\u001b[0;34m.\u001b[0m\u001b[0mmodule\u001b[0m\u001b[0;34m)\u001b[0m\u001b[0;34m)\u001b[0m\u001b[0;34m:\u001b[0m\u001b[0;34m\u001b[0m\u001b[0m\n\u001b[0;32m--> 169\u001b[0;31m                 \u001b[0mself\u001b[0m\u001b[0;34m.\u001b[0m\u001b[0m_genes\u001b[0m\u001b[0;34m[\u001b[0m\u001b[0mi\u001b[0m\u001b[0;34m]\u001b[0m\u001b[0;34m.\u001b[0m\u001b[0mset_module\u001b[0m\u001b[0;34m(\u001b[0m\u001b[0mself\u001b[0m\u001b[0;34m.\u001b[0m\u001b[0m_module_pop\u001b[0m\u001b[0;34m.\u001b[0m\u001b[0mget_species\u001b[0m\u001b[0;34m(\u001b[0m\u001b[0;34m)\u001b[0m\u001b[0;34m)\u001b[0m\u001b[0;34m\u001b[0m\u001b[0m\n\u001b[0m\u001b[1;32m    170\u001b[0m                 \u001b[0mvalid_species\u001b[0m \u001b[0;34m=\u001b[0m \u001b[0;32mFalse\u001b[0m\u001b[0;34m\u001b[0m\u001b[0m\n\u001b[1;32m    171\u001b[0m         \u001b[0;32mfor\u001b[0m \u001b[0mg\u001b[0m \u001b[0;32min\u001b[0m \u001b[0mself\u001b[0m\u001b[0;34m.\u001b[0m\u001b[0m_genes\u001b[0m\u001b[0;34m:\u001b[0m\u001b[0;34m\u001b[0m\u001b[0m\n",
      "\u001b[0;31mKeyboardInterrupt\u001b[0m: "
     ]
    }
   ],
   "source": [
    "evolve(5)"
   ]
  },
  {
   "cell_type": "code",
   "execution_count": null,
   "metadata": {},
   "outputs": [],
   "source": [
    "def eval_best(model_file):\n",
    "    config.load('configMNIST')\n",
    "    model = keras.models.load_model(model_file)\n",
    "    visualize.draw_net(model, \"_\" + model_file)    \n",
    "    model.fit(data[0], data[1], epochs=5)\n",
    "    loss, fitness = model.evaluate(data[2], data[3])\n",
    "    print(\"fitness\", fitness)"
   ]
  },
  {
   "cell_type": "code",
   "execution_count": null,
   "metadata": {},
   "outputs": [],
   "source": [
    "eval_best(\"MNIST_best_model_0\")"
   ]
  },
  {
   "cell_type": "code",
   "execution_count": null,
   "metadata": {},
   "outputs": [],
   "source": []
  }
 ],
 "metadata": {
  "kernelspec": {
   "display_name": "Python 3",
   "language": "python",
   "name": "python3"
  },
  "language_info": {
   "codemirror_mode": {
    "name": "ipython",
    "version": 3
   },
   "file_extension": ".py",
   "mimetype": "text/x-python",
   "name": "python",
   "nbconvert_exporter": "python",
   "pygments_lexer": "ipython3",
   "version": "3.5.2"
  }
 },
 "nbformat": 4,
 "nbformat_minor": 2
}
