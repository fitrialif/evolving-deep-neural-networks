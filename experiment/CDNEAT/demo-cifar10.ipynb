{
 "cells": [
  {
   "cell_type": "markdown",
   "metadata": {},
   "source": [
    "# CoDeepNEAT demo\n",
    "## CS081 project checkpoint demo\n",
    "### Harsha Uppli, Alan Zhao, Gabriel Meyer-Lee\n",
    "\n",
    "The following notebook demonstrates using CoDeepNEAT to solve CIFAR-10"
   ]
  },
  {
   "cell_type": "code",
   "execution_count": 2,
   "metadata": {},
   "outputs": [
    {
     "name": "stderr",
     "output_type": "stream",
     "text": [
      "Using TensorFlow backend.\n"
     ]
    }
   ],
   "source": [
    "from keras.datasets import cifar10\n",
    "from keras.utils.np_utils import to_categorical\n",
    "from math import pi, floor\n",
    "from random import random\n",
    "from codeepneat import codeepneat, config, population, chromosome, genome, visualize\n",
    "import pickle\n",
    "import numpy as np\n",
    "import keras"
   ]
  },
  {
   "cell_type": "markdown",
   "metadata": {},
   "source": [
    "### Problem: CIFAR10 data set\n",
    "\n",
    "Conveniently, it's also built into Keras, which our CoDeepNEAT imiplementation is built off of."
   ]
  },
  {
   "cell_type": "code",
   "execution_count": 3,
   "metadata": {},
   "outputs": [
    {
     "name": "stdout",
     "output_type": "stream",
     "text": [
      "data shapes\n",
      "  x train: (50000, 32, 32, 3)\n",
      "  x test: (10000, 32, 32, 3)\n",
      "  y train: (50000,)\n",
      "  y test: (10000,)\n"
     ]
    }
   ],
   "source": [
    "(x_train, y_train), (x_test, y_test) = cifar10.load_data()\n",
    "y_train = y_train[:,0]\n",
    "y_test = y_test[:,0]\n",
    "print(\"data shapes\")\n",
    "print(\"  x train:\", x_train.shape)\n",
    "print(\"  x test:\", x_test.shape)\n",
    "print(\"  y train:\", y_train.shape)\n",
    "print(\"  y test:\", y_test.shape)\n",
    "x_train = x_train.reshape(x_train.shape[0], 32, 32, 3).astype('float32') / 255\n",
    "x_test = x_test.reshape(x_test.shape[0], 32, 32, 3).astype('float32') / 255\n",
    "y_train = to_categorical(y_train)\n",
    "y_test = to_categorical(y_test)\n",
    "data = [x_train, y_train, x_test, y_test]"
   ]
  },
  {
   "cell_type": "markdown",
   "metadata": {},
   "source": [
    "### Configuring NEAT\n",
    "\n",
    "Many of the options and inputs are still handled through the config file. The config file has been shortened considerably as many parameters have been eliminated, although many parameters have also been introduced which could be added."
   ]
  },
  {
   "cell_type": "code",
   "execution_count": 4,
   "metadata": {},
   "outputs": [
    {
     "name": "stdout",
     "output_type": "stream",
     "text": [
      "Overwriting configCIFAR10\n"
     ]
    }
   ],
   "source": [
    "%%file configCIFAR10\n",
    "#--- parameters for the robot experiment ---#\n",
    "[phenotype]\n",
    "input_nodes         = 32,32,3\n",
    "output_nodes        = 10\n",
    "conv                = True\n",
    "\n",
    "[genetic]\n",
    "max_fitness_threshold = 1\n",
    "\n",
    "# Human reasoning\n",
    "pop_size              = 10\n",
    "prob_addconv          = 0.9\n",
    "prob_addlayer         = 0.1\n",
    "prob_addmodule        = 0.05\n",
    "elitism               = 1\n",
    "\n",
    "[genotype compatibility]\n",
    "compatibility_threshold = 3.0\n",
    "compatibility_change    = 0.0\n",
    "excess_coeficient       = 1.0\n",
    "disjoint_coeficient     = 1.0\n",
    "connection_coeficient   = 0.4\n",
    "\n",
    "[species]\n",
    "species_size        = 10\n",
    "survival_threshold  = 0.2\n",
    "old_threshold       = 30\n",
    "youth_threshold     = 10\n",
    "old_penalty         = 0.2\n",
    "youth_boost         = 1.2\n",
    "max_stagnation      = 15"
   ]
  },
  {
   "cell_type": "code",
   "execution_count": 5,
   "metadata": {},
   "outputs": [],
   "source": [
    "epoch = 5\n",
    "pop_module = 40\n",
    "pop_blueprint = 10\n",
    "pop_model = 10\n",
    "num_generation = 5"
   ]
  },
  {
   "cell_type": "markdown",
   "metadata": {},
   "source": [
    "### Fitness\n",
    "\n",
    "For this demonstration we'll be using supervised learning to train the networks produced by CoDeepNEAT on NMIST and then use their accuracy after 10 epochs as their fitness."
   ]
  },
  {
   "cell_type": "code",
   "execution_count": 6,
   "metadata": {},
   "outputs": [],
   "source": [
    "def fitness(network, data):\n",
    "    network.fit(data[0], data[1],  epochs=5)\n",
    "    loss, acc = network.evaluate(data[2], data[3])\n",
    "    return acc"
   ]
  },
  {
   "cell_type": "markdown",
   "metadata": {},
   "source": [
    "### Evolution\n",
    "\n",
    "Evolution with CoDeepNEAT is slightly different than evolution with NEAT. The main difference is coevolution, where we have two separate populations with a hierarchical relationship evolving together."
   ]
  },
  {
   "cell_type": "code",
   "execution_count": 7,
   "metadata": {},
   "outputs": [],
   "source": [
    "def evolve(n):\n",
    "    config.load('configCIFAR10')\n",
    "    # Create 2 separate populations (size is now defined explicitly, but config file can still be used)\n",
    "    module_pop = population.Population(pop_module, chromosome.ModuleChromo)\n",
    "    # As the top hierarchical level, the blueprint population needs to be able to see the module population\n",
    "    blueprint_pop = population.Population(pop_blueprint, chromosome.BlueprintChromo, module_pop)\n",
    "    # Most of the actual evolving is now handled outside of the population, by CoDeepNEAT\n",
    "    # Instead of requiring the user to overwrite the evaluation function, CoDeepNEAT evaluates the populations itself,\n",
    "    # it simply requires a fitness function for the networks it creates passed in as an argument.\n",
    "    codeepneat.epoch(n, blueprint_pop, module_pop, pop_model, fitness, data, save_best=True, name='CIFAR10')\n",
    "    # It will still stop if fitness surpasses the max_fitness_threshold in config file\n",
    "    # Plots the evolution of the best/average fitness\n",
    "    visualize.plot_stats(module_pop.stats, name=\"CIFAR10mod_\")\n",
    "    visualize.plot_stats(blueprint_pop.stats, name=\"CIFAR10bp_\")\n",
    "    # Visualizes speciation\n",
    "    #visualize.plot_species(module_pop.species_log, name=\"NMISTmod_\")\n",
    "    #visualize.plot_species(blueprint_pop.species_log, name=\"NMISTbp_\")"
   ]
  },
  {
   "cell_type": "code",
   "execution_count": 8,
   "metadata": {
    "scrolled": false
   },
   "outputs": [
    {
     "name": "stdout",
     "output_type": "stream",
     "text": [
      "Epoch 1/5\n",
      "50000/50000 [==============================] - 6s - loss: 1.8940 - acc: 0.3117     \n",
      "Epoch 2/5\n",
      "50000/50000 [==============================] - 5s - loss: 1.7317 - acc: 0.3802     \n",
      "Epoch 3/5\n",
      "50000/50000 [==============================] - 5s - loss: 1.6772 - acc: 0.4041     \n",
      "Epoch 4/5\n",
      "50000/50000 [==============================] - 5s - loss: 1.6447 - acc: 0.4193     \n",
      "Epoch 5/5\n",
      "50000/50000 [==============================] - 5s - loss: 1.6241 - acc: 0.4262     \n",
      " 9760/10000 [============================>.] - ETA: 0sEpoch 1/5\n",
      "50000/50000 [==============================] - 17s - loss: 1.6914 - acc: 0.4205    \n",
      "Epoch 2/5\n",
      "50000/50000 [==============================] - 17s - loss: 1.3895 - acc: 0.5114    \n",
      "Epoch 3/5\n",
      "50000/50000 [==============================] - 17s - loss: 1.2912 - acc: 0.5470    \n",
      "Epoch 4/5\n",
      "50000/50000 [==============================] - 17s - loss: 1.2193 - acc: 0.5760    \n",
      "Epoch 5/5\n",
      "50000/50000 [==============================] - 17s - loss: 1.1601 - acc: 0.5964    \n",
      " 9952/10000 [============================>.] - ETA: 0sEpoch 1/5\n",
      "50000/50000 [==============================] - 17s - loss: 1.6304 - acc: 0.4334    \n",
      "Epoch 2/5\n",
      "50000/50000 [==============================] - 17s - loss: 1.3602 - acc: 0.5234    \n",
      "Epoch 3/5\n",
      "50000/50000 [==============================] - 17s - loss: 1.2694 - acc: 0.5559    \n",
      "Epoch 4/5\n",
      "50000/50000 [==============================] - 17s - loss: 1.2031 - acc: 0.5819    \n",
      "Epoch 5/5\n",
      "50000/50000 [==============================] - 17s - loss: 1.1413 - acc: 0.6025    \n",
      " 9984/10000 [============================>.] - ETA: 0sEpoch 1/5\n",
      "50000/50000 [==============================] - 5s - loss: 1.8921 - acc: 0.3115     \n",
      "Epoch 2/5\n",
      "50000/50000 [==============================] - 5s - loss: 1.7377 - acc: 0.3773     \n",
      "Epoch 3/5\n",
      "50000/50000 [==============================] - 5s - loss: 1.6828 - acc: 0.3978     \n",
      "Epoch 4/5\n",
      "50000/50000 [==============================] - 5s - loss: 1.6475 - acc: 0.4116     \n",
      "Epoch 5/5\n",
      "50000/50000 [==============================] - 5s - loss: 1.6229 - acc: 0.4227     \n",
      " 9824/10000 [============================>.] - ETA: 0sEpoch 1/5\n",
      "50000/50000 [==============================] - 4s - loss: 1.9120 - acc: 0.3069     \n",
      "Epoch 2/5\n",
      "50000/50000 [==============================] - 4s - loss: 1.7269 - acc: 0.3816     \n",
      "Epoch 3/5\n",
      "50000/50000 [==============================] - 4s - loss: 1.6557 - acc: 0.4094     \n",
      "Epoch 4/5\n",
      "50000/50000 [==============================] - 4s - loss: 1.6110 - acc: 0.4263     \n",
      "Epoch 5/5\n",
      "50000/50000 [==============================] - 4s - loss: 1.5854 - acc: 0.4338     \n",
      " 9952/10000 [============================>.] - ETA: 0sEpoch 1/5\n",
      "50000/50000 [==============================] - 4s - loss: 1.9145 - acc: 0.3097     \n",
      "Epoch 2/5\n",
      "50000/50000 [==============================] - 4s - loss: 1.7226 - acc: 0.3857     \n",
      "Epoch 3/5\n",
      "50000/50000 [==============================] - 4s - loss: 1.6553 - acc: 0.4094     \n",
      "Epoch 4/5\n",
      "50000/50000 [==============================] - 4s - loss: 1.6084 - acc: 0.4248     \n",
      "Epoch 5/5\n",
      "50000/50000 [==============================] - 4s - loss: 1.5777 - acc: 0.4366     \n",
      " 9760/10000 [============================>.] - ETA: 0sEpoch 1/5\n",
      "50000/50000 [==============================] - 17s - loss: 1.7934 - acc: 0.4222    \n",
      "Epoch 2/5\n",
      "50000/50000 [==============================] - 18s - loss: 1.3799 - acc: 0.5159    \n",
      "Epoch 3/5\n",
      "50000/50000 [==============================] - 17s - loss: 1.2849 - acc: 0.5486    \n",
      "Epoch 4/5\n",
      "50000/50000 [==============================] - 17s - loss: 1.2159 - acc: 0.5745    \n",
      "Epoch 5/5\n",
      "50000/50000 [==============================] - 17s - loss: 1.1597 - acc: 0.5972    \n",
      " 9824/10000 [============================>.] - ETA: 0sEpoch 1/5\n",
      "50000/50000 [==============================] - 5s - loss: 1.8875 - acc: 0.3143     \n",
      "Epoch 2/5\n",
      "50000/50000 [==============================] - 5s - loss: 1.7249 - acc: 0.3843     \n",
      "Epoch 3/5\n",
      "50000/50000 [==============================] - 5s - loss: 1.6669 - acc: 0.4063     \n",
      "Epoch 4/5\n",
      "50000/50000 [==============================] - 5s - loss: 1.6328 - acc: 0.4194     \n",
      "Epoch 5/5\n",
      "50000/50000 [==============================] - 5s - loss: 1.6067 - acc: 0.4286     \n",
      " 9920/10000 [============================>.] - ETA: 0sEpoch 1/5\n",
      "50000/50000 [==============================] - 19s - loss: 1.6378 - acc: 0.4271    \n",
      "Epoch 2/5\n",
      "50000/50000 [==============================] - 19s - loss: 1.4845 - acc: 0.4867    \n",
      "Epoch 3/5\n",
      "50000/50000 [==============================] - 19s - loss: 1.4323 - acc: 0.5063    \n",
      "Epoch 4/5\n",
      "50000/50000 [==============================] - 18s - loss: 1.3977 - acc: 0.5181    \n",
      "Epoch 5/5\n",
      "50000/50000 [==============================] - 19s - loss: 1.3697 - acc: 0.5279    \n",
      " 9952/10000 [============================>.] - ETA: 0sEpoch 1/5\n",
      "50000/50000 [==============================] - 5s - loss: 1.8813 - acc: 0.3179     \n",
      "Epoch 2/5\n",
      "50000/50000 [==============================] - 5s - loss: 1.7185 - acc: 0.3859     \n",
      "Epoch 3/5\n",
      "50000/50000 [==============================] - 5s - loss: 1.6522 - acc: 0.4118     \n",
      "Epoch 4/5\n",
      "50000/50000 [==============================] - 5s - loss: 1.6120 - acc: 0.4286     \n",
      "Epoch 5/5\n",
      "50000/50000 [==============================] - 5s - loss: 1.5825 - acc: 0.4399     \n",
      " 9600/10000 [===========================>..] - ETA: 0s"
     ]
    },
    {
     "ename": "ZeroDivisionError",
     "evalue": "division by zero",
     "output_type": "error",
     "traceback": [
      "\u001b[0;31m-------------------------------------------------------------------\u001b[0m",
      "\u001b[0;31mZeroDivisionError\u001b[0m                 Traceback (most recent call last)",
      "\u001b[0;32m<ipython-input-8-48af38703f20>\u001b[0m in \u001b[0;36m<module>\u001b[0;34m()\u001b[0m\n\u001b[0;32m----> 1\u001b[0;31m \u001b[0mevolve\u001b[0m\u001b[0;34m(\u001b[0m\u001b[0mnum_generation\u001b[0m\u001b[0;34m)\u001b[0m\u001b[0;34m\u001b[0m\u001b[0m\n\u001b[0m",
      "\u001b[0;32m<ipython-input-7-7549556e670e>\u001b[0m in \u001b[0;36mevolve\u001b[0;34m(n)\u001b[0m\n\u001b[1;32m      8\u001b[0m     \u001b[0;31m# Instead of requiring the user to overwrite the evaluation function, CoDeepNEAT evaluates the populations itself,\u001b[0m\u001b[0;34m\u001b[0m\u001b[0;34m\u001b[0m\u001b[0m\n\u001b[1;32m      9\u001b[0m     \u001b[0;31m# it simply requires a fitness function for the networks it creates passed in as an argument.\u001b[0m\u001b[0;34m\u001b[0m\u001b[0;34m\u001b[0m\u001b[0m\n\u001b[0;32m---> 10\u001b[0;31m     \u001b[0mcodeepneat\u001b[0m\u001b[0;34m.\u001b[0m\u001b[0mepoch\u001b[0m\u001b[0;34m(\u001b[0m\u001b[0mn\u001b[0m\u001b[0;34m,\u001b[0m \u001b[0mblueprint_pop\u001b[0m\u001b[0;34m,\u001b[0m \u001b[0mmodule_pop\u001b[0m\u001b[0;34m,\u001b[0m \u001b[0mpop_model\u001b[0m\u001b[0;34m,\u001b[0m \u001b[0mfitness\u001b[0m\u001b[0;34m,\u001b[0m \u001b[0mdata\u001b[0m\u001b[0;34m,\u001b[0m \u001b[0msave_best\u001b[0m\u001b[0;34m=\u001b[0m\u001b[0;32mTrue\u001b[0m\u001b[0;34m,\u001b[0m \u001b[0mname\u001b[0m\u001b[0;34m=\u001b[0m\u001b[0;34m'CIFAR10'\u001b[0m\u001b[0;34m)\u001b[0m\u001b[0;34m\u001b[0m\u001b[0m\n\u001b[0m\u001b[1;32m     11\u001b[0m     \u001b[0;31m# It will still stop if fitness surpasses the max_fitness_threshold in config file\u001b[0m\u001b[0;34m\u001b[0m\u001b[0;34m\u001b[0m\u001b[0m\n\u001b[1;32m     12\u001b[0m     \u001b[0;31m# Plots the evolution of the best/average fitness\u001b[0m\u001b[0;34m\u001b[0m\u001b[0;34m\u001b[0m\u001b[0m\n",
      "\u001b[0;32m~/cs81/project-huppili1-zzhao1/experiment/CDNEAT/codeepneat/codeepneat.py\u001b[0m in \u001b[0;36mepoch\u001b[0;34m(n, pop1, pop2, num_networks, f, data, save_best, name, report)\u001b[0m\n\u001b[1;32m     48\u001b[0m \u001b[0;32mdef\u001b[0m \u001b[0mepoch\u001b[0m\u001b[0;34m(\u001b[0m\u001b[0mn\u001b[0m\u001b[0;34m,\u001b[0m \u001b[0mpop1\u001b[0m\u001b[0;34m,\u001b[0m \u001b[0mpop2\u001b[0m\u001b[0;34m,\u001b[0m \u001b[0mnum_networks\u001b[0m\u001b[0;34m,\u001b[0m \u001b[0mf\u001b[0m\u001b[0;34m,\u001b[0m \u001b[0mdata\u001b[0m\u001b[0;34m,\u001b[0m \u001b[0msave_best\u001b[0m\u001b[0;34m,\u001b[0m \u001b[0mname\u001b[0m\u001b[0;34m=\u001b[0m\u001b[0;34m''\u001b[0m\u001b[0;34m,\u001b[0m \u001b[0mreport\u001b[0m\u001b[0;34m=\u001b[0m\u001b[0;32mTrue\u001b[0m\u001b[0;34m)\u001b[0m\u001b[0;34m:\u001b[0m\u001b[0;34m\u001b[0m\u001b[0m\n\u001b[1;32m     49\u001b[0m     \u001b[0;32mfor\u001b[0m \u001b[0mg\u001b[0m \u001b[0;32min\u001b[0m \u001b[0mrange\u001b[0m\u001b[0;34m(\u001b[0m\u001b[0mn\u001b[0m\u001b[0;34m)\u001b[0m\u001b[0;34m:\u001b[0m\u001b[0;34m\u001b[0m\u001b[0m\n\u001b[0;32m---> 50\u001b[0;31m         \u001b[0mevaluate\u001b[0m\u001b[0;34m(\u001b[0m\u001b[0mpop1\u001b[0m\u001b[0;34m,\u001b[0m \u001b[0mpop2\u001b[0m\u001b[0;34m,\u001b[0m \u001b[0mnum_networks\u001b[0m\u001b[0;34m,\u001b[0m \u001b[0mf\u001b[0m\u001b[0;34m,\u001b[0m \u001b[0mdata\u001b[0m\u001b[0;34m)\u001b[0m\u001b[0;34m\u001b[0m\u001b[0m\n\u001b[0m\u001b[1;32m     51\u001b[0m         \u001b[0mn\u001b[0m \u001b[0;34m=\u001b[0m \u001b[0mpop1\u001b[0m\u001b[0;34m.\u001b[0m\u001b[0mepoch\u001b[0m\u001b[0;34m(\u001b[0m\u001b[0mg\u001b[0m\u001b[0;34m,\u001b[0m \u001b[0mreport\u001b[0m\u001b[0;34m,\u001b[0m \u001b[0msave_best\u001b[0m\u001b[0;34m,\u001b[0m \u001b[0mname\u001b[0m\u001b[0;34m)\u001b[0m\u001b[0;34m\u001b[0m\u001b[0m\n\u001b[1;32m     52\u001b[0m         \u001b[0mm\u001b[0m \u001b[0;34m=\u001b[0m \u001b[0mpop2\u001b[0m\u001b[0;34m.\u001b[0m\u001b[0mepoch\u001b[0m\u001b[0;34m(\u001b[0m\u001b[0mg\u001b[0m\u001b[0;34m,\u001b[0m \u001b[0mreport\u001b[0m\u001b[0;34m,\u001b[0m \u001b[0msave_best\u001b[0m\u001b[0;34m,\u001b[0m \u001b[0mname\u001b[0m\u001b[0;34m)\u001b[0m\u001b[0;34m\u001b[0m\u001b[0m\n",
      "\u001b[0;32m~/cs81/project-huppili1-zzhao1/experiment/CDNEAT/codeepneat/codeepneat.py\u001b[0m in \u001b[0;36mevaluate\u001b[0;34m(blueprint_pop, module_pop, num_networks, f, data)\u001b[0m\n\u001b[1;32m     42\u001b[0m             \u001b[0mmodule\u001b[0m\u001b[0;34m.\u001b[0m\u001b[0mfitness\u001b[0m \u001b[0;34m+=\u001b[0m \u001b[0mfit\u001b[0m\u001b[0;34m\u001b[0m\u001b[0m\n\u001b[1;32m     43\u001b[0m     \u001b[0;32mfor\u001b[0m \u001b[0mmodule\u001b[0m \u001b[0;32min\u001b[0m \u001b[0mmodule_pop\u001b[0m\u001b[0;34m:\u001b[0m\u001b[0;34m\u001b[0m\u001b[0m\n\u001b[0;32m---> 44\u001b[0;31m       \u001b[0mmodule\u001b[0m\u001b[0;34m.\u001b[0m\u001b[0mfitness\u001b[0m \u001b[0;34m=\u001b[0m \u001b[0mmodule\u001b[0m\u001b[0;34m.\u001b[0m\u001b[0mfitness\u001b[0m\u001b[0;34m/\u001b[0m\u001b[0mmodule\u001b[0m\u001b[0;34m.\u001b[0m\u001b[0mnum_use\u001b[0m\u001b[0;34m\u001b[0m\u001b[0m\n\u001b[0m\u001b[1;32m     45\u001b[0m     \u001b[0;32mfor\u001b[0m \u001b[0mblueprint\u001b[0m \u001b[0;32min\u001b[0m \u001b[0mblueprint_pop\u001b[0m\u001b[0;34m:\u001b[0m\u001b[0;34m\u001b[0m\u001b[0m\n\u001b[1;32m     46\u001b[0m       \u001b[0mblueprint\u001b[0m\u001b[0;34m.\u001b[0m\u001b[0mfitness\u001b[0m \u001b[0;34m=\u001b[0m \u001b[0mblueprint\u001b[0m\u001b[0;34m.\u001b[0m\u001b[0mfitness\u001b[0m\u001b[0;34m/\u001b[0m\u001b[0mblueprint\u001b[0m\u001b[0;34m.\u001b[0m\u001b[0mnum_use\u001b[0m\u001b[0;34m\u001b[0m\u001b[0m\n",
      "\u001b[0;31mZeroDivisionError\u001b[0m: division by zero"
     ]
    }
   ],
   "source": [
    "evolve(num_generation)"
   ]
  },
  {
   "cell_type": "code",
   "execution_count": 29,
   "metadata": {},
   "outputs": [],
   "source": [
    "def eval_best(chromo_file):\n",
    "    config.load('configCIFAR10')\n",
    "    fp = open(chromo_file, \"rb\")\n",
    "    chromo = pickle.load(fp)\n",
    "    print(chromo)\n",
    "    fp.close()\n",
    "    visualize.draw_net(chromo, \"_\" + chromo_file)    \n",
    "    network = codeepneat.produce_net(chromo)\n",
    "    network.fit(x_train, y_train, epochs=50)\n",
    "    fitness = network.evaluate(x_test, y_test)\n",
    "    print(\"fitness\", fitness)"
   ]
  },
  {
   "cell_type": "code",
   "execution_count": 32,
   "metadata": {},
   "outputs": [
    {
     "ename": "FileNotFoundError",
     "evalue": "[Errno 2] No such file or directory: 'NMISTbp_best_chromo_0'",
     "output_type": "error",
     "traceback": [
      "\u001b[0;31m-------------------------------------------------------------------\u001b[0m",
      "\u001b[0;31mFileNotFoundError\u001b[0m                 Traceback (most recent call last)",
      "\u001b[0;32m<ipython-input-32-1acc5c224e30>\u001b[0m in \u001b[0;36m<module>\u001b[0;34m()\u001b[0m\n\u001b[0;32m----> 1\u001b[0;31m \u001b[0meval_best\u001b[0m\u001b[0;34m(\u001b[0m\u001b[0;34m\"NMISTbp_best_chromo_0\"\u001b[0m\u001b[0;34m)\u001b[0m\u001b[0;34m\u001b[0m\u001b[0m\n\u001b[0m",
      "\u001b[0;32m<ipython-input-29-95a707793894>\u001b[0m in \u001b[0;36meval_best\u001b[0;34m(chromo_file)\u001b[0m\n\u001b[1;32m      1\u001b[0m \u001b[0;32mdef\u001b[0m \u001b[0meval_best\u001b[0m\u001b[0;34m(\u001b[0m\u001b[0mchromo_file\u001b[0m\u001b[0;34m)\u001b[0m\u001b[0;34m:\u001b[0m\u001b[0;34m\u001b[0m\u001b[0m\n\u001b[1;32m      2\u001b[0m     \u001b[0mconfig\u001b[0m\u001b[0;34m.\u001b[0m\u001b[0mload\u001b[0m\u001b[0;34m(\u001b[0m\u001b[0;34m'configMNIST'\u001b[0m\u001b[0;34m)\u001b[0m\u001b[0;34m\u001b[0m\u001b[0m\n\u001b[0;32m----> 3\u001b[0;31m     \u001b[0mfp\u001b[0m \u001b[0;34m=\u001b[0m \u001b[0mopen\u001b[0m\u001b[0;34m(\u001b[0m\u001b[0mchromo_file\u001b[0m\u001b[0;34m,\u001b[0m \u001b[0;34m\"rb\"\u001b[0m\u001b[0;34m)\u001b[0m\u001b[0;34m\u001b[0m\u001b[0m\n\u001b[0m\u001b[1;32m      4\u001b[0m     \u001b[0mchromo\u001b[0m \u001b[0;34m=\u001b[0m \u001b[0mpickle\u001b[0m\u001b[0;34m.\u001b[0m\u001b[0mload\u001b[0m\u001b[0;34m(\u001b[0m\u001b[0mfp\u001b[0m\u001b[0;34m)\u001b[0m\u001b[0;34m\u001b[0m\u001b[0m\n\u001b[1;32m      5\u001b[0m     \u001b[0mprint\u001b[0m\u001b[0;34m(\u001b[0m\u001b[0mchromo\u001b[0m\u001b[0;34m)\u001b[0m\u001b[0;34m\u001b[0m\u001b[0m\n",
      "\u001b[0;31mFileNotFoundError\u001b[0m: [Errno 2] No such file or directory: 'NMISTbp_best_chromo_0'"
     ]
    }
   ],
   "source": [
    "eval_best(\"CIFAR10_best_chromo_0\")"
   ]
  },
  {
   "cell_type": "code",
   "execution_count": null,
   "metadata": {},
   "outputs": [],
   "source": []
  }
 ],
 "metadata": {
  "kernelspec": {
   "display_name": "Python 3",
   "language": "python",
   "name": "python3"
  },
  "language_info": {
   "codemirror_mode": {
    "name": "ipython",
    "version": 3
   },
   "file_extension": ".py",
   "mimetype": "text/x-python",
   "name": "python",
   "nbconvert_exporter": "python",
   "pygments_lexer": "ipython3",
   "version": "3.5.2"
  }
 },
 "nbformat": 4,
 "nbformat_minor": 2
}
